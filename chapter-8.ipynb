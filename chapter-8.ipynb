{
 "cells": [
  {
   "cell_type": "markdown",
   "metadata": {},
   "source": [
    "# Chapter 8"
   ]
  },
  {
   "cell_type": "markdown",
   "metadata": {},
   "source": [
    "#### Helpful formula reference guide"
   ]
  },
  {
   "cell_type": "markdown",
   "metadata": {},
   "source": [
    "$\\hat{p} = \\frac{X}{n}$\n",
    "\n",
    "$\\tilde{p} = \\frac{X + 2}{n + 4}$\n",
    "\n",
    "$SE_{\\hat{p}} = \\sqrt{\\frac{\\hat{p}\\hat{q}}{n}}$\n",
    "\n",
    "$moe = z^*SE_{\\hat{p}}$\n",
    "\n",
    "$\\mathrm{CI\\,for\\,} p: \\hat{p} \\pm moe$\n",
    "\n",
    "$z = \\frac{\\hat{p} - p_0}{\\sqrt{\\frac{p_0(1 - p_0)}{n}}}$"
   ]
  },
  {
   "cell_type": "markdown",
   "metadata": {},
   "source": [
    "#### And accompanying helpful functions"
   ]
  },
  {
   "cell_type": "markdown",
   "metadata": {},
   "source": [
    "# ALL OF THESE WERE WRITTEN BY ME\n",
    "and they WORK (I think)"
   ]
  },
  {
   "cell_type": "code",
   "execution_count": 1,
   "metadata": {
    "collapsed": false
   },
   "outputs": [],
   "source": [
    "p.hat <- function(X, n, wilson=FALSE) {\n",
    "    if (wilson) {\n",
    "        X <- X + 2\n",
    "        n <- n + 4\n",
    "    }\n",
    "    return (X / n)\n",
    "}\n",
    "\n",
    "se <- function(X, n, wilson=FALSE, p=2) {\n",
    "    if (wilson) {\n",
    "        X <- X + 2\n",
    "        n <- n + 4\n",
    "    }\n",
    "    if (p != 2) {\n",
    "        return (sqrt((p * (1 - p)) / n))\n",
    "    }\n",
    "    return (sqrt((p.hat(X, n) * (1 - p.hat(X, n))) / n))\n",
    "}\n",
    "\n",
    "moe <- function(X, n, wilson=FALSE, conf=0.95) {\n",
    "    if (wilson) {\n",
    "        X <- X + 2\n",
    "        n <- n + 4\n",
    "    }\n",
    "    return (qnorm(conf + ((1 - conf) / 2)) * se(X, n))\n",
    "}\n",
    "\n",
    "prop.ci <- function(X, n, wilson=FALSE, conf=0.95) {\n",
    "    if (wilson) {\n",
    "        X <- X + 2\n",
    "        n <- n + 4\n",
    "    }\n",
    "    \n",
    "    m <- moe(X, n, conf=conf)\n",
    "    ph <- p.hat(X, n)\n",
    "    print(m)\n",
    "    conf <- c(ph,\n",
    "          ph - m,\n",
    "          ph + m)\n",
    "    names(conf) <- c(\"p hat\", \"lower\", \"upper\")\n",
    "    \n",
    "    return (conf)\n",
    "}\n",
    "\n",
    "z <- function(X, n, p0, wilson=FALSE) {\n",
    "    if (wilson) {\n",
    "        X <- X + 2\n",
    "        n <- n + 4\n",
    "    }\n",
    "    \n",
    "    ph <- p.hat(X, n)\n",
    "    return((ph - p0) / (se(X, n, p=p0)))\n",
    "}\n",
    "\n",
    "prop.test <- function(X, n, p0, wilson=FALSE, alternative=\"two.sided\") {\n",
    "    z <- z(X, n, p0, wilson)\n",
    "    p.value <- 9999999999\n",
    "    if (alternative == \"two.sided\") {\n",
    "        lower.tail <- (z < 1)\n",
    "        p.value <-  2 * pnorm(z, lower.tail=lower.tail)\n",
    "    } else if (alternative == \"less\") {\n",
    "        p.value <- pnorm(z)\n",
    "    } else if (alternative == \"greater\") {\n",
    "        p.value <- pnorm(z, lower.tail=FALSE)\n",
    "    }\n",
    "    \n",
    "    results <- c(z, p.value)\n",
    "    names(results) <- c(\"z\", \"P-value\")\n",
    "    \n",
    "    return (results)\n",
    "}"
   ]
  },
  {
   "cell_type": "markdown",
   "metadata": {},
   "source": [
    "## Section 1"
   ]
  },
  {
   "cell_type": "markdown",
   "metadata": {},
   "source": [
    "## 1"
   ]
  },
  {
   "cell_type": "code",
   "execution_count": 2,
   "metadata": {
    "collapsed": false
   },
   "outputs": [
    {
     "data": {
      "text/html": [
       "0.0148568924564757"
      ],
      "text/latex": [
       "0.0148568924564757"
      ],
      "text/markdown": [
       "0.0148568924564757"
      ],
      "text/plain": [
       "[1] 0.01485689"
      ]
     },
     "metadata": {},
     "output_type": "display_data"
    }
   ],
   "source": [
    "n <- 1200\n",
    "X <- 1200 * 0.89\n",
    "\n",
    "moe(X, n, conf=0.9)"
   ]
  },
  {
   "cell_type": "markdown",
   "metadata": {},
   "source": [
    "## 3"
   ]
  },
  {
   "cell_type": "code",
   "execution_count": 3,
   "metadata": {
    "collapsed": true
   },
   "outputs": [],
   "source": [
    "p0 <- 0.72\n",
    "n <- 100\n",
    "X <- 77"
   ]
  },
  {
   "cell_type": "markdown",
   "metadata": {},
   "source": [
    "### a"
   ]
  },
  {
   "cell_type": "markdown",
   "metadata": {},
   "source": [
    "$H_0: p = 0.72$\n",
    "\n",
    "$H_a: p \\neq 0.72$"
   ]
  },
  {
   "cell_type": "markdown",
   "metadata": {},
   "source": [
    "### b"
   ]
  },
  {
   "cell_type": "code",
   "execution_count": 4,
   "metadata": {
    "collapsed": false
   },
   "outputs": [
    {
     "data": {
      "text/html": [
       "<dl class=dl-horizontal>\n",
       "\t<dt>z</dt>\n",
       "\t\t<dd>1.11358850796844</dd>\n",
       "\t<dt>P-value</dt>\n",
       "\t\t<dd>0.265455758786516</dd>\n",
       "</dl>\n"
      ],
      "text/latex": [
       "\\begin{description*}\n",
       "\\item[z] 1.11358850796844\n",
       "\\item[P-value] 0.265455758786516\n",
       "\\end{description*}\n"
      ],
      "text/markdown": [
       "z\n",
       ":   1.11358850796844P-value\n",
       ":   0.265455758786516\n",
       "\n"
      ],
      "text/plain": [
       "        z   P-value \n",
       "1.1135885 0.2654558 "
      ]
     },
     "metadata": {},
     "output_type": "display_data"
    }
   ],
   "source": [
    "prop.test(X, n, p0)"
   ]
  },
  {
   "cell_type": "markdown",
   "metadata": {},
   "source": [
    "### c"
   ]
  },
  {
   "cell_type": "markdown",
   "metadata": {},
   "source": [
    "Results are very much not significant to the $\\alpha = 0.05$ level."
   ]
  },
  {
   "cell_type": "markdown",
   "metadata": {},
   "source": [
    "## 5"
   ]
  },
  {
   "cell_type": "code",
   "execution_count": 5,
   "metadata": {
    "collapsed": false
   },
   "outputs": [
    {
     "data": {
      "text/html": [
       "751.539848359836"
      ],
      "text/latex": [
       "751.539848359836"
      ],
      "text/markdown": [
       "751.539848359836"
      ],
      "text/plain": [
       "[1] 751.5398"
      ]
     },
     "metadata": {},
     "output_type": "display_data"
    }
   ],
   "source": [
    "(qnorm(0.95) / 0.03)^2 * 0.25"
   ]
  },
  {
   "cell_type": "markdown",
   "metadata": {},
   "source": [
    "Really don't need that large of a sample for a 90% interval; 752 should suffice."
   ]
  },
  {
   "cell_type": "markdown",
   "metadata": {},
   "source": [
    "## 7"
   ]
  },
  {
   "cell_type": "markdown",
   "metadata": {},
   "source": [
    "Yes, yes, no, no, no"
   ]
  },
  {
   "cell_type": "markdown",
   "metadata": {},
   "source": [
    "## 9"
   ]
  },
  {
   "cell_type": "markdown",
   "metadata": {},
   "source": [
    "### a"
   ]
  },
  {
   "cell_type": "markdown",
   "metadata": {},
   "source": [
    "Plus/minus the *margin of error*, which is the standard error times $z_0.995$"
   ]
  },
  {
   "cell_type": "markdown",
   "metadata": {},
   "source": [
    "### b"
   ]
  },
  {
   "cell_type": "markdown",
   "metadata": {},
   "source": [
    "No… for undisclosed reasons we're supposed to use a Normal distribution for proportions"
   ]
  },
  {
   "cell_type": "markdown",
   "metadata": {},
   "source": [
    "### c"
   ]
  },
  {
   "cell_type": "markdown",
   "metadata": {},
   "source": [
    "Wrong. $\\hat{p}$ is the statistic. We want to test $p = 0.2$"
   ]
  },
  {
   "cell_type": "markdown",
   "metadata": {},
   "source": [
    "## 11"
   ]
  },
  {
   "cell_type": "markdown",
   "metadata": {},
   "source": [
    "### a"
   ]
  },
  {
   "cell_type": "code",
   "execution_count": 6,
   "metadata": {
    "collapsed": false
   },
   "outputs": [
    {
     "data": {
      "text/html": [
       "<dl class=dl-horizontal>\n",
       "\t<dt>p-hat</dt>\n",
       "\t\t<dd>0.634072220235967</dd>\n",
       "\t<dt>margin of error</dt>\n",
       "\t\t<dd>0.0126227480427002</dd>\n",
       "</dl>\n"
      ],
      "text/latex": [
       "\\begin{description*}\n",
       "\\item[p-hat] 0.634072220235967\n",
       "\\item[margin of error] 0.0126227480427002\n",
       "\\end{description*}\n"
      ],
      "text/markdown": [
       "p-hat\n",
       ":   0.634072220235967margin of error\n",
       ":   0.0126227480427002\n",
       "\n"
      ],
      "text/plain": [
       "          p-hat margin of error \n",
       "     0.63407222      0.01262275 "
      ]
     },
     "metadata": {},
     "output_type": "display_data"
    }
   ],
   "source": [
    "n <- 5594\n",
    "X <- 3547\n",
    "\n",
    "results <- c(p.hat(X, n), moe(X, n))\n",
    "names(results) <- c(\"p-hat\", \"margin of error\")\n",
    "results"
   ]
  },
  {
   "cell_type": "markdown",
   "metadata": {},
   "source": [
    "95% confidence means that 95% of the time, a population with these statistics will fall within this margin of error above or below p-hat."
   ]
  },
  {
   "cell_type": "markdown",
   "metadata": {},
   "source": [
    "### b"
   ]
  },
  {
   "cell_type": "markdown",
   "metadata": {},
   "source": [
    "Yes! It needs to not be a voluntary response survey, or else it isn't an SRS. These calculations only hold weight for an SRS, or very close to"
   ]
  },
  {
   "cell_type": "markdown",
   "metadata": {},
   "source": [
    "## 13"
   ]
  },
  {
   "cell_type": "markdown",
   "metadata": {},
   "source": [
    "### a"
   ]
  },
  {
   "cell_type": "code",
   "execution_count": 7,
   "metadata": {
    "collapsed": false
   },
   "outputs": [
    {
     "data": {
      "text/html": [
       "0.00132103448327042"
      ],
      "text/latex": [
       "0.00132103448327042"
      ],
      "text/markdown": [
       "0.00132103448327042"
      ],
      "text/plain": [
       "[1] 0.001321034"
      ]
     },
     "metadata": {},
     "output_type": "display_data"
    }
   ],
   "source": [
    "n <- 430000\n",
    "X <- 0.87 * n\n",
    "moe(X, n, conf=0.99)"
   ]
  },
  {
   "cell_type": "markdown",
   "metadata": {},
   "source": [
    "### b"
   ]
  },
  {
   "cell_type": "markdown",
   "metadata": {},
   "source": [
    "These sources of error would far more than cancel out the sampling error calculated in part A. Therefore, the moe calculated in part A was useless. Great"
   ]
  },
  {
   "cell_type": "markdown",
   "metadata": {},
   "source": [
    "## 21"
   ]
  },
  {
   "cell_type": "markdown",
   "metadata": {},
   "source": [
    "no, yes, yes, no"
   ]
  },
  {
   "cell_type": "markdown",
   "metadata": {},
   "source": [
    "## 22"
   ]
  },
  {
   "cell_type": "code",
   "execution_count": 8,
   "metadata": {
    "collapsed": false
   },
   "outputs": [
    {
     "data": {
      "text/html": [
       "<dl class=dl-horizontal>\n",
       "\t<dt>z</dt>\n",
       "\t\t<dd>2.5298221281347</dd>\n",
       "\t<dt>P-value</dt>\n",
       "\t\t<dd>0.00570601819300084</dd>\n",
       "</dl>\n"
      ],
      "text/latex": [
       "\\begin{description*}\n",
       "\\item[z] 2.5298221281347\n",
       "\\item[P-value] 0.00570601819300084\n",
       "\\end{description*}\n"
      ],
      "text/markdown": [
       "z\n",
       ":   2.5298221281347P-value\n",
       ":   0.00570601819300084\n",
       "\n"
      ],
      "text/plain": [
       "          z     P-value \n",
       "2.529822128 0.005706018 "
      ]
     },
     "metadata": {},
     "output_type": "display_data"
    }
   ],
   "source": [
    "n <- 40\n",
    "X <- n - 12\n",
    "\n",
    "our.z <- z(X, n, 0.5)\n",
    "\n",
    "prop.test(X, n, 0.5, alternative=\"greater\")"
   ]
  },
  {
   "cell_type": "code",
   "execution_count": 9,
   "metadata": {
    "collapsed": false,
    "scrolled": false
   },
   "outputs": [
    {
     "name": "stderr",
     "output_type": "stream",
     "text": [
      "Loading required package: dplyr\n",
      "\n",
      "Attaching package: ‘dplyr’\n",
      "\n",
      "The following objects are masked from ‘package:stats’:\n",
      "\n",
      "    filter, lag\n",
      "\n",
      "The following objects are masked from ‘package:base’:\n",
      "\n",
      "    intersect, setdiff, setequal, union\n",
      "\n",
      "Loading required package: lattice\n",
      "Loading required package: ggplot2\n",
      "Loading required package: mosaicData\n",
      "Loading required package: Matrix\n",
      "\n",
      "The 'mosaic' package masks several functions from core packages in order to add additional features.  \n",
      "The original behavior of these functions should not be affected by this.\n",
      "\n",
      "Attaching package: ‘mosaic’\n",
      "\n",
      "The following object is masked _by_ ‘.GlobalEnv’:\n",
      "\n",
      "    prop.test\n",
      "\n",
      "The following object is masked from ‘package:Matrix’:\n",
      "\n",
      "    mean\n",
      "\n",
      "The following objects are masked from ‘package:dplyr’:\n",
      "\n",
      "    count, do, tally\n",
      "\n",
      "The following objects are masked from ‘package:stats’:\n",
      "\n",
      "    binom.test, cor, cov, D, fivenum, IQR, median, prop.test, quantile,\n",
      "    sd, t.test, var\n",
      "\n",
      "The following objects are masked from ‘package:base’:\n",
      "\n",
      "    max, mean, min, prod, range, sample, sum\n",
      "\n"
     ]
    },
    {
     "name": "stdout",
     "output_type": "stream",
     "text": [
      "\n",
      "If X ~ N(0, 1), then \n",
      "\n",
      "\tP(X <= -2.529822) = P(Z <= -2.529822) = 0.005706018\n",
      "\tP(X >  -2.529822) = P(Z >  -2.529822) = 0.994294\n",
      "\n"
     ]
    },
    {
     "data": {
      "text/html": [
       "0.00570601819300084"
      ],
      "text/latex": [
       "0.00570601819300084"
      ],
      "text/markdown": [
       "0.00570601819300084"
      ],
      "text/plain": [
       "[1] 0.005706018"
      ]
     },
     "metadata": {},
     "output_type": "display_data"
    },
    {
     "data": {
      "image/png": "[encoded data removed]",
      "text/plain": [
       "plot without title"
      ]
     },
     "metadata": {},
     "output_type": "display_data"
    }
   ],
   "source": [
    "library(mosaic)\n",
    "xpnorm(-our.z)"
   ]
  },
  {
   "cell_type": "markdown",
   "metadata": {},
   "source": [
    "Lots of significance, very much to the 0.05 level and even to the 0.01 level. There is remarkably unbelievably strong evidence that most people prefer fresh-brewed coffee."
   ]
  },
  {
   "cell_type": "markdown",
   "metadata": {},
   "source": [
    "## Section 2"
   ]
  },
  {
   "cell_type": "markdown",
   "metadata": {},
   "source": [
    "#### Two-sample Equations"
   ]
  },
  {
   "cell_type": "markdown",
   "metadata": {},
   "source": [
    "$$D = \\hat{p}_1 - \\hat{p}_2$$\n",
    "\n",
    "$$\\tilde{D} = \\tilde{p}_1 - \\tilde{p}_2$$\n",
    "\n",
    "$$SE_{D} = \\sqrt{\\frac{\\hat{p}_1\\hat{q}_1}{n_1} + \\frac{\\hat{p}_2\\hat{q}_2}{n_2}}$$\n",
    "\n",
    "$$SE_{D_p} = \\sqrt{\\hat{p}\\hat{q}\\left(\\frac{1}{n_1} + \\frac{1}{n_2}\\right)}\\,;\\,\\, \\hat{p} = \\frac{X_1 + X^2}{n_1 + n_2}$$\n",
    "\n",
    "$$SE_{\\tilde{D}} = \\sqrt{\\frac{\\tilde{p}_1 \\tilde{q}_1}{n_1 + 2} + \\frac{\\tilde{p}_2\\tilde{q}_2}{n_2 + 2}}$$\n",
    "\n",
    "$$moe = z^*SE_{D}$$\n",
    "\n",
    "$$\\mathrm{CI\\,for\\,} p_1 - p_2: D \\pm moe$$\n",
    "\n",
    "$$z = \\frac{\\hat{p}_1 - \\hat{p}_2}{SE_{D_p}}$$"
   ]
  },
  {
   "cell_type": "markdown",
   "metadata": {},
   "source": [
    "#### And again, extending the functons from above to two sample"
   ]
  },
  {
   "cell_type": "code",
   "execution_count": 10,
   "metadata": {
    "collapsed": true
   },
   "outputs": [],
   "source": [
    "D <- function(x1, n1, x2, n2) {\n",
    "    return (p.hat(x1, n1) - p.hat(x2, n2))\n",
    "}\n",
    "\n",
    "se.D <- function(x1, n1, x2, n2) {\n",
    "    ph1 <- p.hat(x1, n1)\n",
    "    ph2 <- p.hat(x2, n2)\n",
    "    \n",
    "    return (sqrt(ph1 * (1 - ph1) / n1 + ph2 * (1 - ph2) / n2))\n",
    "}\n",
    "\n",
    "se.Dp <- function(x1, n1, x2, n2) {\n",
    "    ph <- p.hat(x1 + x2, n1 + n2)\n",
    "    \n",
    "    return (sqrt(ph * (1 - ph) * (1 / n1 + 1 / n2)))\n",
    "}\n",
    "\n",
    "moe2 <- function(x1, n1, x2, n2, conf=0.95) {\n",
    "    return (qnorm(conf + ((1 - conf) / 2)) * se.D(x1, n1, x2, n2))\n",
    "}\n",
    "\n",
    "prop.ci2 <- function(x1, n1, x2, n2, conf=0.95) {\n",
    "    \n",
    "    m <- moe2(x1, n1, x2, n2, conf=conf)\n",
    "    D <- D(x1, n1, x2, n2)\n",
    "    print(m)\n",
    "    conf <- c(D,\n",
    "          D - m,\n",
    "          D + m)\n",
    "    names(conf) <- c(\"p.hat 1 - p.hat 2\", \"lower\", \"upper\")\n",
    "    \n",
    "    return (conf)\n",
    "}\n",
    "\n",
    "z2 <- function(x1, n1, x2, n2) {\n",
    "    return ((p.hat(x1, n1) - p.hat(x2, n2)) / se.Dp(x1, n1, x2, n2))\n",
    "}\n",
    "\n",
    "prop.test2 <- function(x1, n1, x2, n2, alternative=\"two.sided\") {\n",
    "    z <- z2(x1, n1, x2, n2)\n",
    "    p.value <- 9999999999\n",
    "    if (alternative == \"two.sided\") {\n",
    "        lower.tail <- (z < 1)\n",
    "        p.value <-  2 * pnorm(z, lower.tail=lower.tail)\n",
    "    } else if (alternative == \"less\") {\n",
    "        p.value <- pnorm(z)\n",
    "    } else if (alternative == \"greater\") {\n",
    "        p.value <- pnorm(z, lower.tail=FALSE)\n",
    "    }\n",
    "    \n",
    "    results <- c(z, p.value)\n",
    "    names(results) <- c(\"z\", \"P-value\")\n",
    "    \n",
    "    return (results)\n",
    "}"
   ]
  },
  {
   "cell_type": "markdown",
   "metadata": {},
   "source": [
    "## 35"
   ]
  },
  {
   "cell_type": "code",
   "execution_count": 11,
   "metadata": {
    "collapsed": false
   },
   "outputs": [
    {
     "data": {
      "text/html": [
       "0.121428571428571"
      ],
      "text/latex": [
       "0.121428571428571"
      ],
      "text/markdown": [
       "0.121428571428571"
      ],
      "text/plain": [
       "[1] 0.1214286"
      ]
     },
     "metadata": {},
     "output_type": "display_data"
    },
    {
     "name": "stdout",
     "output_type": "stream",
     "text": [
      "[1] 0.1273867\n"
     ]
    },
    {
     "data": {
      "text/html": [
       "<dl class=dl-horizontal>\n",
       "\t<dt>p.hat 1 - p.hat 2</dt>\n",
       "\t\t<dd>0.121428571428571</dd>\n",
       "\t<dt>lower</dt>\n",
       "\t\t<dd>-0.00595809828350266</dd>\n",
       "\t<dt>upper</dt>\n",
       "\t\t<dd>0.248815241140645</dd>\n",
       "</dl>\n"
      ],
      "text/latex": [
       "\\begin{description*}\n",
       "\\item[p.hat 1 - p.hat 2] 0.121428571428571\n",
       "\\item[lower] -0.00595809828350266\n",
       "\\item[upper] 0.248815241140645\n",
       "\\end{description*}\n"
      ],
      "text/markdown": [
       "p.hat 1 - p.hat 2\n",
       ":   0.121428571428571lower\n",
       ":   -0.00595809828350266upper\n",
       ":   0.248815241140645\n",
       "\n"
      ],
      "text/plain": [
       "p.hat 1 - p.hat 2             lower             upper \n",
       "      0.121428571      -0.005958098       0.248815241 "
      ]
     },
     "metadata": {},
     "output_type": "display_data"
    }
   ],
   "source": [
    "xw <- 45\n",
    "nw <- 100\n",
    "xm <- 80\n",
    "nm <- 140\n",
    "\n",
    "D(xm, nm, xw, nw)\n",
    "\n",
    "prop.ci2(xm, nm, xw, nw)"
   ]
  },
  {
   "cell_type": "markdown",
   "metadata": {},
   "source": [
    "## 37"
   ]
  },
  {
   "cell_type": "code",
   "execution_count": 12,
   "metadata": {
    "collapsed": false
   },
   "outputs": [
    {
     "data": {
      "text/html": [
       "<dl class=dl-horizontal>\n",
       "\t<dt>z</dt>\n",
       "\t\t<dd>1.85646428118862</dd>\n",
       "\t<dt>P-value</dt>\n",
       "\t\t<dd>0.0633874096917783</dd>\n",
       "</dl>\n"
      ],
      "text/latex": [
       "\\begin{description*}\n",
       "\\item[z] 1.85646428118862\n",
       "\\item[P-value] 0.0633874096917783\n",
       "\\end{description*}\n"
      ],
      "text/markdown": [
       "z\n",
       ":   1.85646428118862P-value\n",
       ":   0.0633874096917783\n",
       "\n"
      ],
      "text/plain": [
       "         z    P-value \n",
       "1.85646428 0.06338741 "
      ]
     },
     "metadata": {},
     "output_type": "display_data"
    }
   ],
   "source": [
    "prop.test2(xm, nm, xw, nw)"
   ]
  },
  {
   "cell_type": "markdown",
   "metadata": {},
   "source": [
    "Not quite significant to an $\\alpha = 0.05$ level"
   ]
  },
  {
   "cell_type": "markdown",
   "metadata": {},
   "source": [
    "## 39"
   ]
  },
  {
   "cell_type": "markdown",
   "metadata": {},
   "source": [
    "yes, no, no, yes, no"
   ]
  },
  {
   "cell_type": "markdown",
   "metadata": {},
   "source": [
    "## 41"
   ]
  },
  {
   "cell_type": "code",
   "execution_count": 13,
   "metadata": {
    "collapsed": false
   },
   "outputs": [
    {
     "data": {
      "text/html": [
       "<dl class=dl-horizontal>\n",
       "\t<dt>z</dt>\n",
       "\t\t<dd>4.23558724801511</dd>\n",
       "\t<dt>P-value</dt>\n",
       "\t\t<dd>2.27955169359288e-05</dd>\n",
       "</dl>\n"
      ],
      "text/latex": [
       "\\begin{description*}\n",
       "\\item[z] 4.23558724801511\n",
       "\\item[P-value] 2.27955169359288e-05\n",
       "\\end{description*}\n"
      ],
      "text/markdown": [
       "z\n",
       ":   4.23558724801511P-value\n",
       ":   2.27955169359288e-05\n",
       "\n"
      ],
      "text/plain": [
       "           z      P-value \n",
       "4.235587e+00 2.279552e-05 "
      ]
     },
     "metadata": {},
     "output_type": "display_data"
    },
    {
     "name": "stdout",
     "output_type": "stream",
     "text": [
      "[1] 0.02766027\n"
     ]
    },
    {
     "data": {
      "text/html": [
       "<dl class=dl-horizontal>\n",
       "\t<dt>p.hat 1 - p.hat 2</dt>\n",
       "\t\t<dd>0.0600000000000001</dd>\n",
       "\t<dt>lower</dt>\n",
       "\t\t<dd>0.0323397297834076</dd>\n",
       "\t<dt>upper</dt>\n",
       "\t\t<dd>0.0876602702165925</dd>\n",
       "</dl>\n"
      ],
      "text/latex": [
       "\\begin{description*}\n",
       "\\item[p.hat 1 - p.hat 2] 0.0600000000000001\n",
       "\\item[lower] 0.0323397297834076\n",
       "\\item[upper] 0.0876602702165925\n",
       "\\end{description*}\n"
      ],
      "text/markdown": [
       "p.hat 1 - p.hat 2\n",
       ":   0.0600000000000001lower\n",
       ":   0.0323397297834076upper\n",
       ":   0.0876602702165925\n",
       "\n"
      ],
      "text/plain": [
       "p.hat 1 - p.hat 2             lower             upper \n",
       "       0.06000000        0.03233973        0.08766027 "
      ]
     },
     "metadata": {},
     "output_type": "display_data"
    }
   ],
   "source": [
    "n4 <- n3 <- 1200\n",
    "x4 <- n4 * 0.89\n",
    "x3 <- n3 * 0.83\n",
    "\n",
    "prop.test2(x4, n4, x3, n3)\n",
    "\n",
    "prop.ci2(x4, n4, x3, n3)"
   ]
  },
  {
   "cell_type": "markdown",
   "metadata": {},
   "source": [
    "## 45"
   ]
  },
  {
   "cell_type": "code",
   "execution_count": 14,
   "metadata": {
    "collapsed": false
   },
   "outputs": [
    {
     "name": "stdout",
     "output_type": "stream",
     "text": [
      "[1] 0.04572275\n"
     ]
    },
    {
     "data": {
      "text/html": [
       "<dl class=dl-horizontal>\n",
       "\t<dt>p.hat 1 - p.hat 2</dt>\n",
       "\t\t<dd>0.0439999999999999</dd>\n",
       "\t<dt>lower</dt>\n",
       "\t\t<dd>-0.00172275014452993</dd>\n",
       "\t<dt>upper</dt>\n",
       "\t\t<dd>0.0897227501445298</dd>\n",
       "</dl>\n"
      ],
      "text/latex": [
       "\\begin{description*}\n",
       "\\item[p.hat 1 - p.hat 2] 0.0439999999999999\n",
       "\\item[lower] -0.00172275014452993\n",
       "\\item[upper] 0.0897227501445298\n",
       "\\end{description*}\n"
      ],
      "text/markdown": [
       "p.hat 1 - p.hat 2\n",
       ":   0.0439999999999999lower\n",
       ":   -0.00172275014452993upper\n",
       ":   0.0897227501445298\n",
       "\n"
      ],
      "text/plain": [
       "p.hat 1 - p.hat 2             lower             upper \n",
       "       0.04400000       -0.00172275        0.08972275 "
      ]
     },
     "metadata": {},
     "output_type": "display_data"
    }
   ],
   "source": [
    "ny <- 595\n",
    "nn <- 1939\n",
    "xy <- 0.533 * ny\n",
    "xn <- 0.577 * nn\n",
    "\n",
    "prop.ci2(xn, nn, xy, ny)"
   ]
  },
  {
   "cell_type": "markdown",
   "metadata": {},
   "source": [
    "## 49"
   ]
  },
  {
   "cell_type": "code",
   "execution_count": 15,
   "metadata": {
    "collapsed": false
   },
   "outputs": [
    {
     "data": {
      "text/html": [
       "<dl class=dl-horizontal>\n",
       "\t<dt>z</dt>\n",
       "\t\t<dd>4.28086817670918</dd>\n",
       "\t<dt>P-value</dt>\n",
       "\t\t<dd>1.86165614880026e-05</dd>\n",
       "</dl>\n"
      ],
      "text/latex": [
       "\\begin{description*}\n",
       "\\item[z] 4.28086817670918\n",
       "\\item[P-value] 1.86165614880026e-05\n",
       "\\end{description*}\n"
      ],
      "text/markdown": [
       "z\n",
       ":   4.28086817670918P-value\n",
       ":   1.86165614880026e-05\n",
       "\n"
      ],
      "text/plain": [
       "           z      P-value \n",
       "4.280868e+00 1.861656e-05 "
      ]
     },
     "metadata": {},
     "output_type": "display_data"
    },
    {
     "name": "stdout",
     "output_type": "stream",
     "text": [
      "[1] 0.03194549\n"
     ]
    },
    {
     "data": {
      "text/html": [
       "<dl class=dl-horizontal>\n",
       "\t<dt>p.hat 1 - p.hat 2</dt>\n",
       "\t\t<dd>0.07</dd>\n",
       "\t<dt>lower</dt>\n",
       "\t\t<dd>0.0380545117625715</dd>\n",
       "\t<dt>upper</dt>\n",
       "\t\t<dd>0.101945488237428</dd>\n",
       "</dl>\n"
      ],
      "text/latex": [
       "\\begin{description*}\n",
       "\\item[p.hat 1 - p.hat 2] 0.07\n",
       "\\item[lower] 0.0380545117625715\n",
       "\\item[upper] 0.101945488237428\n",
       "\\end{description*}\n"
      ],
      "text/markdown": [
       "p.hat 1 - p.hat 2\n",
       ":   0.07lower\n",
       ":   0.0380545117625715upper\n",
       ":   0.101945488237428\n",
       "\n"
      ],
      "text/plain": [
       "p.hat 1 - p.hat 2             lower             upper \n",
       "       0.07000000        0.03805451        0.10194549 "
      ]
     },
     "metadata": {},
     "output_type": "display_data"
    }
   ],
   "source": [
    "n1 <- n2 <- 1421\n",
    "x1 <- 0.29 * n1\n",
    "x2 <- 0.22 * n2\n",
    "\n",
    "prop.test2(x1, n1, x2, n2)\n",
    "\n",
    "prop.ci2(x1, n1, x2, n2)"
   ]
  },
  {
   "cell_type": "markdown",
   "metadata": {},
   "source": [
    "The test shows us that there is definitely, almost beyond a doubt, a different in the proportion of people that download music. However, the confidence interval also shows us *by how much* the proportions are likely different, up to a 95% confidence level."
   ]
  },
  {
   "cell_type": "markdown",
   "metadata": {},
   "source": [
    "## 50"
   ]
  },
  {
   "cell_type": "code",
   "execution_count": 16,
   "metadata": {
    "collapsed": false
   },
   "outputs": [
    {
     "name": "stdout",
     "output_type": "stream",
     "text": [
      "[1] \"n1 = n2 = 1000:\"\n"
     ]
    },
    {
     "data": {
      "text/html": [
       "<dl class=dl-horizontal>\n",
       "\t<dt>z</dt>\n",
       "\t\t<dd>3.59116050062953</dd>\n",
       "\t<dt>P-value</dt>\n",
       "\t\t<dd>0.000329208813183164</dd>\n",
       "</dl>\n"
      ],
      "text/latex": [
       "\\begin{description*}\n",
       "\\item[z] 3.59116050062953\n",
       "\\item[P-value] 0.000329208813183164\n",
       "\\end{description*}\n"
      ],
      "text/markdown": [
       "z\n",
       ":   3.59116050062953P-value\n",
       ":   0.000329208813183164\n",
       "\n"
      ],
      "text/plain": [
       "           z      P-value \n",
       "3.5911605006 0.0003292088 "
      ]
     },
     "metadata": {},
     "output_type": "display_data"
    },
    {
     "name": "stdout",
     "output_type": "stream",
     "text": [
      "[1] 0.03808084\n"
     ]
    },
    {
     "data": {
      "text/html": [
       "<dl class=dl-horizontal>\n",
       "\t<dt>p.hat 1 - p.hat 2</dt>\n",
       "\t\t<dd>0.07</dd>\n",
       "\t<dt>lower</dt>\n",
       "\t\t<dd>0.0319191556709672</dd>\n",
       "\t<dt>upper</dt>\n",
       "\t\t<dd>0.108080844329033</dd>\n",
       "</dl>\n"
      ],
      "text/latex": [
       "\\begin{description*}\n",
       "\\item[p.hat 1 - p.hat 2] 0.07\n",
       "\\item[lower] 0.0319191556709672\n",
       "\\item[upper] 0.108080844329033\n",
       "\\end{description*}\n"
      ],
      "text/markdown": [
       "p.hat 1 - p.hat 2\n",
       ":   0.07lower\n",
       ":   0.0319191556709672upper\n",
       ":   0.108080844329033\n",
       "\n"
      ],
      "text/plain": [
       "p.hat 1 - p.hat 2             lower             upper \n",
       "       0.07000000        0.03191916        0.10808084 "
      ]
     },
     "metadata": {},
     "output_type": "display_data"
    },
    {
     "name": "stdout",
     "output_type": "stream",
     "text": [
      "[1] \"n1 = n2 = 1600\"\n"
     ]
    },
    {
     "data": {
      "text/html": [
       "<dl class=dl-horizontal>\n",
       "\t<dt>z</dt>\n",
       "\t\t<dd>4.54249865008794</dd>\n",
       "\t<dt>P-value</dt>\n",
       "\t\t<dd>5.55913526560685e-06</dd>\n",
       "</dl>\n"
      ],
      "text/latex": [
       "\\begin{description*}\n",
       "\\item[z] 4.54249865008794\n",
       "\\item[P-value] 5.55913526560685e-06\n",
       "\\end{description*}\n"
      ],
      "text/markdown": [
       "z\n",
       ":   4.54249865008794P-value\n",
       ":   5.55913526560685e-06\n",
       "\n"
      ],
      "text/plain": [
       "           z      P-value \n",
       "4.542499e+00 5.559135e-06 "
      ]
     },
     "metadata": {},
     "output_type": "display_data"
    },
    {
     "name": "stdout",
     "output_type": "stream",
     "text": [
      "[1] 0.03010555\n"
     ]
    },
    {
     "data": {
      "text/html": [
       "<dl class=dl-horizontal>\n",
       "\t<dt>p.hat 1 - p.hat 2</dt>\n",
       "\t\t<dd>0.07</dd>\n",
       "\t<dt>lower</dt>\n",
       "\t\t<dd>0.0398944491744874</dd>\n",
       "\t<dt>upper</dt>\n",
       "\t\t<dd>0.100105550825513</dd>\n",
       "</dl>\n"
      ],
      "text/latex": [
       "\\begin{description*}\n",
       "\\item[p.hat 1 - p.hat 2] 0.07\n",
       "\\item[lower] 0.0398944491744874\n",
       "\\item[upper] 0.100105550825513\n",
       "\\end{description*}\n"
      ],
      "text/markdown": [
       "p.hat 1 - p.hat 2\n",
       ":   0.07lower\n",
       ":   0.0398944491744874upper\n",
       ":   0.100105550825513\n",
       "\n"
      ],
      "text/plain": [
       "p.hat 1 - p.hat 2             lower             upper \n",
       "       0.07000000        0.03989445        0.10010555 "
      ]
     },
     "metadata": {},
     "output_type": "display_data"
    },
    {
     "name": "stdout",
     "output_type": "stream",
     "text": [
      "[1] \"n1 = 1000; n2 = 1600\"\n"
     ]
    },
    {
     "data": {
      "text/html": [
       "<dl class=dl-horizontal>\n",
       "\t<dt>z</dt>\n",
       "\t\t<dd>4.02690002459325</dd>\n",
       "\t<dt>P-value</dt>\n",
       "\t\t<dd>5.65170486696503e-05</dd>\n",
       "</dl>\n"
      ],
      "text/latex": [
       "\\begin{description*}\n",
       "\\item[z] 4.02690002459325\n",
       "\\item[P-value] 5.65170486696503e-05\n",
       "\\end{description*}\n"
      ],
      "text/markdown": [
       "z\n",
       ":   4.02690002459325P-value\n",
       ":   5.65170486696503e-05\n",
       "\n"
      ],
      "text/plain": [
       "           z      P-value \n",
       "4.026900e+00 5.651705e-05 "
      ]
     },
     "metadata": {},
     "output_type": "display_data"
    },
    {
     "name": "stdout",
     "output_type": "stream",
     "text": [
      "[1] 0.03468361\n"
     ]
    },
    {
     "data": {
      "text/html": [
       "<dl class=dl-horizontal>\n",
       "\t<dt>p.hat 1 - p.hat 2</dt>\n",
       "\t\t<dd>0.07</dd>\n",
       "\t<dt>lower</dt>\n",
       "\t\t<dd>0.035316389609783</dd>\n",
       "\t<dt>upper</dt>\n",
       "\t\t<dd>0.104683610390217</dd>\n",
       "</dl>\n"
      ],
      "text/latex": [
       "\\begin{description*}\n",
       "\\item[p.hat 1 - p.hat 2] 0.07\n",
       "\\item[lower] 0.035316389609783\n",
       "\\item[upper] 0.104683610390217\n",
       "\\end{description*}\n"
      ],
      "text/markdown": [
       "p.hat 1 - p.hat 2\n",
       ":   0.07lower\n",
       ":   0.035316389609783upper\n",
       ":   0.104683610390217\n",
       "\n"
      ],
      "text/plain": [
       "p.hat 1 - p.hat 2             lower             upper \n",
       "       0.07000000        0.03531639        0.10468361 "
      ]
     },
     "metadata": {},
     "output_type": "display_data"
    }
   ],
   "source": [
    "n1 <- n2 <- 1000\n",
    "x1 <- 0.29 * n1\n",
    "x2 <- 0.22 * n2\n",
    "\n",
    "print(\"n1 = n2 = 1000:\")\n",
    "prop.test2(x1, n1, x2, n2)\n",
    "prop.ci2(x1, n1, x2, n2)\n",
    "\n",
    "n1 <- n2 <- 1600\n",
    "x1 <- 0.29 * n1\n",
    "x2 <- 0.22 * n2\n",
    "\n",
    "print(\"n1 = n2 = 1600\")\n",
    "prop.test2(x1, n1, x2, n2)\n",
    "prop.ci2(x1, n1, x2, n2)\n",
    "\n",
    "n1 <- 1000\n",
    "n2 <- 1600\n",
    "x1 <- 0.29 * n1\n",
    "x2 <- 0.22 * n2\n",
    "\n",
    "print(\"n1 = 1000; n2 = 1600\")\n",
    "prop.test2(x1, n1, x2, n2)\n",
    "prop.ci2(x1, n1, x2, n2)"
   ]
  },
  {
   "cell_type": "markdown",
   "metadata": {},
   "source": [
    "Sample size reduces your P-value and shrinks your margin of error"
   ]
  },
  {
   "cell_type": "markdown",
   "metadata": {},
   "source": [
    "## 51"
   ]
  },
  {
   "cell_type": "markdown",
   "metadata": {},
   "source": [
    "### a"
   ]
  },
  {
   "cell_type": "code",
   "execution_count": 17,
   "metadata": {
    "collapsed": false
   },
   "outputs": [
    {
     "name": "stdout",
     "output_type": "stream",
     "text": [
      "[1] 0.1194254\n"
     ]
    },
    {
     "data": {
      "text/html": [
       "<dl class=dl-horizontal>\n",
       "\t<dt>p.hat 1 - p.hat 2</dt>\n",
       "\t\t<dd>0.114124407702389</dd>\n",
       "\t<dt>lower</dt>\n",
       "\t\t<dd>-0.00530103332536278</dd>\n",
       "\t<dt>upper</dt>\n",
       "\t\t<dd>0.233549848730142</dd>\n",
       "</dl>\n"
      ],
      "text/latex": [
       "\\begin{description*}\n",
       "\\item[p.hat 1 - p.hat 2] 0.114124407702389\n",
       "\\item[lower] -0.00530103332536278\n",
       "\\item[upper] 0.233549848730142\n",
       "\\end{description*}\n"
      ],
      "text/markdown": [
       "p.hat 1 - p.hat 2\n",
       ":   0.114124407702389lower\n",
       ":   -0.00530103332536278upper\n",
       ":   0.233549848730142\n",
       "\n"
      ],
      "text/plain": [
       "p.hat 1 - p.hat 2             lower             upper \n",
       "      0.114124408      -0.005301033       0.233549849 "
      ]
     },
     "metadata": {},
     "output_type": "display_data"
    }
   ],
   "source": [
    "n.high.tech <- 91\n",
    "n.low.tech <- 109\n",
    "\n",
    "x.high.tech <- 73\n",
    "x.low.tech <- 75\n",
    "\n",
    "prop.ci2(x.high.tech, n.high.tech, x.low.tech, n.low.tech)"
   ]
  },
  {
   "cell_type": "markdown",
   "metadata": {},
   "source": [
    "### b"
   ]
  },
  {
   "cell_type": "code",
   "execution_count": 18,
   "metadata": {
    "collapsed": false
   },
   "outputs": [
    {
     "data": {
      "text/html": [
       "<dl class=dl-horizontal>\n",
       "\t<dt>z</dt>\n",
       "\t\t<dd>1.83229311640518</dd>\n",
       "\t<dt>P-value</dt>\n",
       "\t\t<dd>0.0334538810558</dd>\n",
       "</dl>\n"
      ],
      "text/latex": [
       "\\begin{description*}\n",
       "\\item[z] 1.83229311640518\n",
       "\\item[P-value] 0.0334538810558\n",
       "\\end{description*}\n"
      ],
      "text/markdown": [
       "z\n",
       ":   1.83229311640518P-value\n",
       ":   0.0334538810558\n",
       "\n"
      ],
      "text/plain": [
       "         z    P-value \n",
       "1.83229312 0.03345388 "
      ]
     },
     "metadata": {},
     "output_type": "display_data"
    }
   ],
   "source": [
    "prop.test2(x.high.tech, n.high.tech, x.low.tech, n.low.tech, alternative=\"greater\")"
   ]
  },
  {
   "cell_type": "markdown",
   "metadata": {},
   "source": [
    "### c"
   ]
  },
  {
   "cell_type": "markdown",
   "metadata": {},
   "source": [
    "We have some pretty strong evidence that high tech companies offer a higher proportion of stock options; however, the margin of error is fairly large. The difference could be almost none, or possibly as large as 23%"
   ]
  },
  {
   "cell_type": "markdown",
   "metadata": {},
   "source": [
    "## 53"
   ]
  },
  {
   "cell_type": "markdown",
   "metadata": {},
   "source": [
    "### a"
   ]
  },
  {
   "cell_type": "code",
   "execution_count": 19,
   "metadata": {
    "collapsed": false
   },
   "outputs": [
    {
     "data": {
      "text/html": [
       "0.8"
      ],
      "text/latex": [
       "0.8"
      ],
      "text/markdown": [
       "0.8"
      ],
      "text/plain": [
       "[1] 0.8"
      ]
     },
     "metadata": {},
     "output_type": "display_data"
    },
    {
     "data": {
      "text/html": [
       "0.0516397779494322"
      ],
      "text/latex": [
       "0.0516397779494322"
      ],
      "text/markdown": [
       "0.0516397779494322"
      ],
      "text/plain": [
       "[1] 0.05163978"
      ]
     },
     "metadata": {},
     "output_type": "display_data"
    }
   ],
   "source": [
    "nf <- 60\n",
    "nm <- 132\n",
    "xf <- 48\n",
    "xm <- 52\n",
    "\n",
    "p.hat(xf, nf)\n",
    "se(xf, nf)"
   ]
  },
  {
   "cell_type": "markdown",
   "metadata": {},
   "source": [
    "### b"
   ]
  },
  {
   "cell_type": "code",
   "execution_count": 20,
   "metadata": {
    "collapsed": false
   },
   "outputs": [
    {
     "name": "stdout",
     "output_type": "stream",
     "text": [
      "[1] 0.110038\n"
     ]
    },
    {
     "data": {
      "text/html": [
       "<dl class=dl-horizontal>\n",
       "\t<dt>p.hat 1 - p.hat 2</dt>\n",
       "\t\t<dd>0.406060606060606</dd>\n",
       "\t<dt>lower</dt>\n",
       "\t\t<dd>0.29602263392855</dd>\n",
       "\t<dt>upper</dt>\n",
       "\t\t<dd>0.516098578192662</dd>\n",
       "</dl>\n"
      ],
      "text/latex": [
       "\\begin{description*}\n",
       "\\item[p.hat 1 - p.hat 2] 0.406060606060606\n",
       "\\item[lower] 0.29602263392855\n",
       "\\item[upper] 0.516098578192662\n",
       "\\end{description*}\n"
      ],
      "text/markdown": [
       "p.hat 1 - p.hat 2\n",
       ":   0.406060606060606lower\n",
       ":   0.29602263392855upper\n",
       ":   0.516098578192662\n",
       "\n"
      ],
      "text/plain": [
       "p.hat 1 - p.hat 2             lower             upper \n",
       "        0.4060606         0.2960226         0.5160986 "
      ]
     },
     "metadata": {},
     "output_type": "display_data"
    }
   ],
   "source": [
    "prop.ci2(xf, nf, xm, nm, conf=0.9)"
   ]
  },
  {
   "cell_type": "markdown",
   "metadata": {},
   "source": [
    "We are 90% sure that there is between a 30% and 52% increase in juvenilization of the female gender in syntax textbooks"
   ]
  },
  {
   "cell_type": "markdown",
   "metadata": {},
   "source": [
    "### c"
   ]
  },
  {
   "cell_type": "code",
   "execution_count": 21,
   "metadata": {
    "collapsed": false
   },
   "outputs": [
    {
     "data": {
      "text/html": [
       "<dl class=dl-horizontal>\n",
       "\t<dt>z</dt>\n",
       "\t\t<dd>5.22047655813827</dd>\n",
       "\t<dt>P-value</dt>\n",
       "\t\t<dd>1.78463296826742e-07</dd>\n",
       "</dl>\n"
      ],
      "text/latex": [
       "\\begin{description*}\n",
       "\\item[z] 5.22047655813827\n",
       "\\item[P-value] 1.78463296826742e-07\n",
       "\\end{description*}\n"
      ],
      "text/markdown": [
       "z\n",
       ":   5.22047655813827P-value\n",
       ":   1.78463296826742e-07\n",
       "\n"
      ],
      "text/plain": [
       "           z      P-value \n",
       "5.220477e+00 1.784633e-07 "
      ]
     },
     "metadata": {},
     "output_type": "display_data"
    }
   ],
   "source": [
    "prop.test2(xf, nf, xm, nm)"
   ]
  },
  {
   "cell_type": "markdown",
   "metadata": {},
   "source": [
    "Yeah, there's a huge difference. Beyond a reasonable doubt."
   ]
  }
 ],
 "metadata": {
  "kernelspec": {
   "display_name": "R",
   "language": "R",
   "name": "ir"
  },
  "language_info": {
   "codemirror_mode": "r",
   "file_extension": ".r",
   "mimetype": "text/x-r-source",
   "name": "R",
   "pygments_lexer": "r",
   "version": "3.3.2"
  }
 },
 "nbformat": 4,
 "nbformat_minor": 1
}
