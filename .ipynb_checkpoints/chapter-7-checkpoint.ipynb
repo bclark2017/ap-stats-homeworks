{
 "cells": [
  {
   "cell_type": "markdown",
   "metadata": {},
   "source": [
    "# Chapter 7 Homework"
   ]
  },
  {
   "cell_type": "markdown",
   "metadata": {},
   "source": [
    "#### A helpful confidence interval function"
   ]
  },
  {
   "cell_type": "code",
   "execution_count": 33,
   "metadata": {
    "collapsed": false
   },
   "outputs": [],
   "source": [
    "require(mosaic)"
   ]
  },
  {
   "cell_type": "markdown",
   "metadata": {},
   "source": [
    "## Section 1"
   ]
  },
  {
   "cell_type": "markdown",
   "metadata": {},
   "source": [
    "## 3"
   ]
  },
  {
   "cell_type": "code",
   "execution_count": 34,
   "metadata": {
    "collapsed": false
   },
   "outputs": [
    {
     "name": "stdout",
     "output_type": "stream",
     "text": [
      "[1] 58.14706\n"
     ]
    },
    {
     "data": {
      "text/html": [
       "<dl class=dl-horizontal>\n",
       "\t<dt>mean</dt>\n",
       "\t\t<dd>570</dd>\n",
       "\t<dt>lower</dt>\n",
       "\t\t<dd>511.852938135689</dd>\n",
       "\t<dt>upper</dt>\n",
       "\t\t<dd>628.147061864311</dd>\n",
       "</dl>\n"
      ],
      "text/latex": [
       "\\begin{description*}\n",
       "\\item[mean] 570\n",
       "\\item[lower] 511.852938135689\n",
       "\\item[upper] 628.147061864311\n",
       "\\end{description*}\n"
      ],
      "text/markdown": [
       "mean\n",
       ":   570lower\n",
       ":   511.852938135689upper\n",
       ":   628.147061864311\n",
       "\n"
      ],
      "text/plain": [
       "    mean    lower    upper \n",
       "570.0000 511.8529 628.1471 "
      ]
     },
     "metadata": {},
     "output_type": "display_data"
    }
   ],
   "source": [
    "n <- 15\n",
    "x.bar <- 570\n",
    "s <- 105\n",
    "\n",
    "se <- s / sqrt(n)\n",
    "moe  <- qt(0.975, df=(n-1)) * se\n",
    "print(moe)\n",
    "\n",
    "conf <- c(x.bar,\n",
    "          x.bar - moe,\n",
    "          x.bar + moe)\n",
    "names(conf) <- c(\"mean\", \"lower\", \"upper\")\n",
    "conf"
   ]
  },
  {
   "cell_type": "markdown",
   "metadata": {},
   "source": [
    "## 4"
   ]
  },
  {
   "cell_type": "markdown",
   "metadata": {},
   "source": [
    "Larger; you must be less confident if your margin of error is greater"
   ]
  },
  {
   "cell_type": "markdown",
   "metadata": {},
   "source": [
    "## 6"
   ]
  },
  {
   "cell_type": "markdown",
   "metadata": {},
   "source": [
    "$H_0: \\mu = 550$\n",
    "\n",
    "$H_a: \\mu > 550$\n",
    "\n",
    "WHsSUt"
   ]
  },
  {
   "cell_type": "code",
   "execution_count": 4,
   "metadata": {
    "collapsed": false
   },
   "outputs": [
    {
     "data": {
      "text/html": [
       "0.236437298746992"
      ],
      "text/latex": [
       "0.236437298746992"
      ],
      "text/markdown": [
       "0.236437298746992"
      ],
      "text/plain": [
       "[1] 0.2364373"
      ]
     },
     "metadata": {},
     "output_type": "display_data"
    }
   ],
   "source": [
    "mu = 550\n",
    "t = (x.bar - mu) / se\n",
    "\n",
    "pt(t, df=(n - 1), lower.tail=FALSE)"
   ]
  },
  {
   "cell_type": "markdown",
   "metadata": {},
   "source": [
    "Not enough evidence to reject the null hypothesis that the mean is $550"
   ]
  },
  {
   "cell_type": "markdown",
   "metadata": {},
   "source": [
    "## 8"
   ]
  },
  {
   "cell_type": "markdown",
   "metadata": {},
   "source": [
    "$H_0: \\mu_a - \\mu_b = 0$\n",
    "\n",
    "$H_a: \\mu_a - \\mu_b \\neq 0$"
   ]
  },
  {
   "cell_type": "code",
   "execution_count": 5,
   "metadata": {
    "collapsed": false
   },
   "outputs": [
    {
     "data": {
      "text/plain": [
       "\n",
       "\tOne Sample t-test\n",
       "\n",
       "data:  a - b\n",
       "t = 1.9686, df = 4, p-value = 0.1204\n",
       "alternative hypothesis: true mean is not equal to 0\n",
       "95 percent confidence interval:\n",
       " -1.88762 11.08762\n",
       "sample estimates:\n",
       "mean of x \n",
       "      4.6 \n"
      ]
     },
     "metadata": {},
     "output_type": "display_data"
    }
   ],
   "source": [
    "a <- c(43, 79, 66, 88, 78)\n",
    "b <- c(45, 78, 61, 77, 70)\n",
    "\n",
    "t.test(a - b)"
   ]
  },
  {
   "cell_type": "markdown",
   "metadata": {},
   "source": [
    "## 9"
   ]
  },
  {
   "cell_type": "markdown",
   "metadata": {},
   "source": [
    "95% CI for $\\mu_a - \\mu_b$: (-1.89, 11.1)"
   ]
  },
  {
   "cell_type": "markdown",
   "metadata": {},
   "source": [
    "## 11"
   ]
  },
  {
   "cell_type": "markdown",
   "metadata": {},
   "source": [
    "Yes; the sample size should be sufficiently large to resist any non-normality in the population, by the CLT"
   ]
  },
  {
   "cell_type": "markdown",
   "metadata": {},
   "source": [
    "## 15"
   ]
  },
  {
   "cell_type": "markdown",
   "metadata": {},
   "source": [
    "### a."
   ]
  },
  {
   "cell_type": "code",
   "execution_count": 8,
   "metadata": {
    "collapsed": false
   },
   "outputs": [
    {
     "data": {
      "text/html": [
       "2.1447866879178"
      ],
      "text/latex": [
       "2.1447866879178"
      ],
      "text/markdown": [
       "2.1447866879178"
      ],
      "text/plain": [
       "[1] 2.144787"
      ]
     },
     "metadata": {},
     "output_type": "display_data"
    }
   ],
   "source": [
    "qt(0.975, df=14)"
   ]
  },
  {
   "cell_type": "markdown",
   "metadata": {},
   "source": [
    "### b."
   ]
  },
  {
   "cell_type": "code",
   "execution_count": 9,
   "metadata": {
    "collapsed": false
   },
   "outputs": [
    {
     "data": {
      "text/html": [
       "2.06389856162803"
      ],
      "text/latex": [
       "2.06389856162803"
      ],
      "text/markdown": [
       "2.06389856162803"
      ],
      "text/plain": [
       "[1] 2.063899"
      ]
     },
     "metadata": {},
     "output_type": "display_data"
    }
   ],
   "source": [
    "qt(0.975, df=24)"
   ]
  },
  {
   "cell_type": "markdown",
   "metadata": {},
   "source": [
    "### c."
   ]
  },
  {
   "cell_type": "code",
   "execution_count": 11,
   "metadata": {
    "collapsed": false
   },
   "outputs": [
    {
     "data": {
      "text/html": [
       "1.71088207990943"
      ],
      "text/latex": [
       "1.71088207990943"
      ],
      "text/markdown": [
       "1.71088207990943"
      ],
      "text/plain": [
       "[1] 1.710882"
      ]
     },
     "metadata": {},
     "output_type": "display_data"
    }
   ],
   "source": [
    "qt(0.95, df=24)"
   ]
  },
  {
   "cell_type": "markdown",
   "metadata": {},
   "source": [
    "### d."
   ]
  },
  {
   "cell_type": "markdown",
   "metadata": {},
   "source": [
    "$t*$ increases as we gain more confidence, decreases as sample size goes up"
   ]
  },
  {
   "cell_type": "markdown",
   "metadata": {},
   "source": [
    "## 30"
   ]
  },
  {
   "cell_type": "markdown",
   "metadata": {},
   "source": [
    "### a."
   ]
  },
  {
   "cell_type": "markdown",
   "metadata": {},
   "source": [
    "Doubtful, because ADHD often entails symptoms of having difficult organizing work"
   ]
  },
  {
   "cell_type": "markdown",
   "metadata": {},
   "source": [
    "### b."
   ]
  },
  {
   "cell_type": "markdown",
   "metadata": {},
   "source": [
    "Yes; despite likely non-Normality of the population, our large sample size, by the CLT should still give us a Normally distributed $\\bar{x}$"
   ]
  },
  {
   "cell_type": "markdown",
   "metadata": {},
   "source": [
    "### c."
   ]
  },
  {
   "cell_type": "code",
   "execution_count": 35,
   "metadata": {
    "collapsed": false
   },
   "outputs": [
    {
     "name": "stdout",
     "output_type": "stream",
     "text": [
      "[1] 0.1590701\n"
     ]
    },
    {
     "data": {
      "text/html": [
       "<dl class=dl-horizontal>\n",
       "\t<dt>mean</dt>\n",
       "\t\t<dd>2.22</dd>\n",
       "\t<dt>lower</dt>\n",
       "\t\t<dd>2.06092988342507</dd>\n",
       "\t<dt>upper</dt>\n",
       "\t\t<dd>2.37907011657494</dd>\n",
       "</dl>\n"
      ],
      "text/latex": [
       "\\begin{description*}\n",
       "\\item[mean] 2.22\n",
       "\\item[lower] 2.06092988342507\n",
       "\\item[upper] 2.37907011657494\n",
       "\\end{description*}\n"
      ],
      "text/markdown": [
       "mean\n",
       ":   2.22lower\n",
       ":   2.06092988342507upper\n",
       ":   2.37907011657494\n",
       "\n"
      ],
      "text/plain": [
       "   mean   lower   upper \n",
       "2.22000 2.06093 2.37907 "
      ]
     },
     "metadata": {},
     "output_type": "display_data"
    }
   ],
   "source": [
    "n <- 282\n",
    "x.bar <- 2.22\n",
    "s <- 1.03\n",
    "\n",
    "se <- s / sqrt(n)\n",
    "moe  <- qt(0.995, df=(n - 1)) * se\n",
    "print(moe)\n",
    "\n",
    "conf <- c(x.bar,\n",
    "          x.bar - moe,\n",
    "          x.bar + moe)\n",
    "names(conf) <- c(\"mean\", \"lower\", \"upper\")\n",
    "conf"
   ]
  },
  {
   "cell_type": "markdown",
   "metadata": {},
   "source": [
    "We can be 99% sure that the average \"difficulty organizing work\" of the population of children with ADHD is at least 2.06 and at most 2.38."
   ]
  },
  {
   "cell_type": "markdown",
   "metadata": {},
   "source": [
    "### d."
   ]
  },
  {
   "cell_type": "markdown",
   "metadata": {},
   "source": [
    "It is not apparent that these boys should have any bias in ADHD symptoms compared to boys in other locations. Therefore, these data are probably strong indications of the boys in other locations."
   ]
  },
  {
   "cell_type": "markdown",
   "metadata": {},
   "source": [
    "## 35"
   ]
  },
  {
   "cell_type": "markdown",
   "metadata": {},
   "source": [
    "$H_0: \\mu_{driver} - \\mu_{computer} = 0$\n",
    "\n",
    "$H_a: \\mu_{driver} - \\mu_{computer} \\neq 0$"
   ]
  },
  {
   "cell_type": "code",
   "execution_count": 18,
   "metadata": {
    "collapsed": false
   },
   "outputs": [
    {
     "data": {
      "text/plain": [
       "\n",
       "\tOne Sample t-test\n",
       "\n",
       "data:  driver - comp\n",
       "t = -4.3862, df = 19, p-value = 0.0003175\n",
       "alternative hypothesis: true mean is not equal to 0\n",
       "95 percent confidence interval:\n",
       " -4.040087 -1.429913\n",
       "sample estimates:\n",
       "mean of x \n",
       "   -2.735 \n"
      ]
     },
     "metadata": {},
     "output_type": "display_data"
    }
   ],
   "source": [
    "comp <- c(41.5, 50.7, 36.6, 37.3, 34.2, 45.0, 48.0, 43.2, 47.7, 42.2, 43.2, 44.6, 48.4, 46.4, 46.8, 39.2, 37.3, 43.5, 44.3, 43.4)\n",
    "driver <- c(36.5, 44.2, 37.2, 35.6, 30.5, 40.5, 40.0, 41.0, 42.8, 39.2, 38.8, 44.5, 45.4, 45.3, 45.7, 34.2, 35.2, 39.8, 44.9, 47.5)\n",
    "\n",
    "t.test(driver - comp)"
   ]
  },
  {
   "cell_type": "markdown",
   "metadata": {},
   "source": [
    "A P-value of 0.0003, significant to the level of $\\alpha = 0.01$, provides unimaginibly amazingly strong evidence that the computer and the driver calculate the mpg in a different manner."
   ]
  },
  {
   "cell_type": "markdown",
   "metadata": {},
   "source": [
    "## 49"
   ]
  },
  {
   "cell_type": "markdown",
   "metadata": {},
   "source": [
    "$H_0: \\mu_{driver} - \\mu_{computer} = 0$\n",
    "\n",
    "$H_a: \\mu_{driver} - \\mu_{computer} < 0$"
   ]
  },
  {
   "cell_type": "code",
   "execution_count": 22,
   "metadata": {
    "collapsed": false
   },
   "outputs": [
    {
     "data": {
      "text/html": [
       "0.00128841400146485"
      ],
      "text/latex": [
       "0.00128841400146485"
      ],
      "text/markdown": [
       "0.00128841400146485"
      ],
      "text/plain": [
       "[1] 0.001288414"
      ]
     },
     "metadata": {},
     "output_type": "display_data"
    }
   ],
   "source": [
    "n <- sum((driver - comp) != 0)\n",
    "T <- sum(comp < driver)\n",
    "\n",
    "pbinom(T, n, 0.5)"
   ]
  },
  {
   "cell_type": "markdown",
   "metadata": {},
   "source": [
    "Because our P-value is 0.001, significant to a level of $\\alpha = 0.01$, we have exceedingly unimaginably strong evidence that the driver calculates lower mpg than the computer."
   ]
  },
  {
   "cell_type": "markdown",
   "metadata": {},
   "source": [
    "## Section 2"
   ]
  },
  {
   "cell_type": "markdown",
   "metadata": {},
   "source": [
    "#### Let's write a good 2-sample t-test function"
   ]
  },
  {
   "cell_type": "code",
   "execution_count": 32,
   "metadata": {
    "collapsed": true
   },
   "outputs": [],
   "source": [
    "t.test2 <- function(m1, m2, s1, s2, n1, n2, m0=0, equal.variance=FALSE) {\n",
    "    if (equal.variance==FALSE) {\n",
    "        se <- sqrt( (s1^2 / n1) + (s2^2 / n2) )\n",
    "        # welch-satterthwaite df\n",
    "        df <- ((s1^2 / n1 + s2^2 / n2)^2) / ((s1^2 / n1)^2 / (n1 - 1) + (s2^2 / n2)^2 / (n2 - 1))\n",
    "    } else {\n",
    "        # pooled standard deviation, scaled by the sample sizes\n",
    "        se <- sqrt((1 / n1 + 1 / n2) * ((n1 - 1) * s1^2 + (n2 - 1) * s2^2) / (n1 + n2 - 2)) \n",
    "        df <- n1 + n2 - 2\n",
    "    }      \n",
    "    t <- (m1 - m2 - m0)/se \n",
    "    dat <- c(m1 - m2, se, t, 2 * pt(-abs(t), df))    \n",
    "    names(dat) <- c(\"Difference of means\", \"Std Error\", \"t\", \"p-value\")\n",
    "    return(dat)\n",
    "}"
   ]
  },
  {
   "cell_type": "markdown",
   "metadata": {},
   "source": [
    "#### and how about a solid 2-sample confidence interval function"
   ]
  },
  {
   "cell_type": "code",
   "execution_count": 37,
   "metadata": {
    "collapsed": true
   },
   "outputs": [],
   "source": [
    "conf.int2 <- function(m1, m2, s1, s2, n1, n2, level = 0.95, ...) {\n",
    "    se <- sqrt(s1^2 / n1 + s2^2 / n2)\n",
    "    df <- ((s1^2 / n1 + s2^2 / n2)^2) / ((s1^2 / n1)^2 / (n1 - 1) + (s2^2 / n2)^2 / (n2 - 1))\n",
    "    t <- qt(1 - (1 - level)/2, df=df)\n",
    "    out <- c(m1 - m2, (m1 - m2) - t * se, (m1 - m2) + t * se)\n",
    "    names(out) <- c(\"mean\", \"lower\", \"upper\")\n",
    "    return(out)\n",
    "}"
   ]
  },
  {
   "cell_type": "markdown",
   "metadata": {},
   "source": [
    "## 54"
   ]
  },
  {
   "cell_type": "markdown",
   "metadata": {},
   "source": [
    "### a."
   ]
  },
  {
   "cell_type": "markdown",
   "metadata": {},
   "source": [
    "Two-sided hypothesis; there's no reason to suspect that one website will outperform the other."
   ]
  },
  {
   "cell_type": "markdown",
   "metadata": {},
   "source": [
    "### b."
   ]
  },
  {
   "cell_type": "markdown",
   "metadata": {},
   "source": [
    "$df$, to be conservative, is 24"
   ]
  },
  {
   "cell_type": "markdown",
   "metadata": {},
   "source": [
    "### c."
   ]
  },
  {
   "cell_type": "code",
   "execution_count": 23,
   "metadata": {
    "collapsed": false
   },
   "outputs": [
    {
     "data": {
      "text/html": [
       "2.06389856162803"
      ],
      "text/latex": [
       "2.06389856162803"
      ],
      "text/markdown": [
       "2.06389856162803"
      ],
      "text/plain": [
       "[1] 2.063899"
      ]
     },
     "metadata": {},
     "output_type": "display_data"
    }
   ],
   "source": [
    "qt(0.975, df=24)"
   ]
  },
  {
   "cell_type": "markdown",
   "metadata": {},
   "source": [
    "The $t$ statistic must be at least 2.06 or at most -2.06 in order to reject the null hypothesis at a 0.05 $\\alpha$ level with $df=24$."
   ]
  },
  {
   "cell_type": "markdown",
   "metadata": {},
   "source": [
    "## 55"
   ]
  },
  {
   "cell_type": "code",
   "execution_count": 26,
   "metadata": {
    "collapsed": false
   },
   "outputs": [
    {
     "data": {
      "text/html": [
       "0.00557391490634011"
      ],
      "text/latex": [
       "0.00557391490634011"
      ],
      "text/markdown": [
       "0.00557391490634011"
      ],
      "text/plain": [
       "[1] 0.005573915"
      ]
     },
     "metadata": {},
     "output_type": "display_data"
    }
   ],
   "source": [
    "pt(2.75, df=24, lower.tail=FALSE)"
   ]
  },
  {
   "cell_type": "markdown",
   "metadata": {},
   "source": [
    "I would report a P-value of 0.006, which is significant to the $\\alpha = 0.05$ level."
   ]
  },
  {
   "cell_type": "markdown",
   "metadata": {},
   "source": [
    "## 58"
   ]
  },
  {
   "cell_type": "code",
   "execution_count": 29,
   "metadata": {
    "collapsed": false
   },
   "outputs": [
    {
     "data": {
      "text/html": [
       "33.2644728823888"
      ],
      "text/latex": [
       "33.2644728823888"
      ],
      "text/markdown": [
       "33.2644728823888"
      ],
      "text/plain": [
       "[1] 33.26447"
      ]
     },
     "metadata": {},
     "output_type": "display_data"
    }
   ],
   "source": [
    "s1 <- 10\n",
    "s2 <- 12\n",
    "n1 <- 20\n",
    "n2 <- 18\n",
    "\n",
    "# welch-satterthwaite df\n",
    "df <- ( (s1^2/n1 + s2^2/n2)^2 )/( (s1^2/n1)^2/(n1-1) + (s2^2/n2)^2/(n2-1) )\n",
    "df"
   ]
  },
  {
   "cell_type": "markdown",
   "metadata": {},
   "source": [
    "## 61"
   ]
  },
  {
   "cell_type": "markdown",
   "metadata": {},
   "source": [
    "### a."
   ]
  },
  {
   "cell_type": "markdown",
   "metadata": {},
   "source": [
    "Reasonable as long as this is in fact an SRS"
   ]
  },
  {
   "cell_type": "markdown",
   "metadata": {},
   "source": [
    "### b."
   ]
  },
  {
   "cell_type": "markdown",
   "metadata": {},
   "source": [
    "$H_0: \\mu_f = \\mu_m$\n",
    "\n",
    "$H_a: \\mu_f \\neq \\mu_m$"
   ]
  },
  {
   "cell_type": "markdown",
   "metadata": {},
   "source": [
    "### c."
   ]
  },
  {
   "cell_type": "code",
   "execution_count": 31,
   "metadata": {
    "collapsed": false
   },
   "outputs": [
    {
     "data": {
      "text/html": [
       "<dl class=dl-horizontal>\n",
       "\t<dt>Difference of means</dt>\n",
       "\t\t<dd>1.88999999999999</dd>\n",
       "\t<dt>Std Error</dt>\n",
       "\t\t<dd>6.84902893097243</dd>\n",
       "\t<dt>t</dt>\n",
       "\t\t<dd>0.27595152817257</dd>\n",
       "\t<dt>p-value</dt>\n",
       "\t\t<dd>0.783333460618478</dd>\n",
       "</dl>\n"
      ],
      "text/latex": [
       "\\begin{description*}\n",
       "\\item[Difference of means] 1.88999999999999\n",
       "\\item[Std Error] 6.84902893097243\n",
       "\\item[t] 0.27595152817257\n",
       "\\item[p-value] 0.783333460618478\n",
       "\\end{description*}\n"
      ],
      "text/markdown": [
       "Difference of means\n",
       ":   1.88999999999999Std Error\n",
       ":   6.84902893097243t\n",
       ":   0.27595152817257p-value\n",
       ":   0.783333460618478\n",
       "\n"
      ],
      "text/plain": [
       "Difference of means           Std Error                   t             p-value \n",
       "          1.8900000           6.8490289           0.2759515           0.7833335 "
      ]
     },
     "metadata": {},
     "output_type": "display_data"
    }
   ],
   "source": [
    "x.bar1 <- 173.70\n",
    "s1 <- 34.79\n",
    "n1 <- 71\n",
    "\n",
    "x.bar2 <- 171.81\n",
    "s2 <- 33.24\n",
    "n2 <- 37\n",
    "\n",
    "t.test2(x.bar1, x.bar2, s1, s2, n1, n2)"
   ]
  },
  {
   "cell_type": "markdown",
   "metadata": {},
   "source": [
    "### d."
   ]
  },
  {
   "cell_type": "code",
   "execution_count": 39,
   "metadata": {
    "collapsed": false
   },
   "outputs": [
    {
     "data": {
      "text/html": [
       "<dl class=dl-horizontal>\n",
       "\t<dt>mean</dt>\n",
       "\t\t<dd>1.88999999999999</dd>\n",
       "\t<dt>lower</dt>\n",
       "\t\t<dd>-11.7507839458919</dd>\n",
       "\t<dt>upper</dt>\n",
       "\t\t<dd>15.5307839458918</dd>\n",
       "</dl>\n"
      ],
      "text/latex": [
       "\\begin{description*}\n",
       "\\item[mean] 1.88999999999999\n",
       "\\item[lower] -11.7507839458919\n",
       "\\item[upper] 15.5307839458918\n",
       "\\end{description*}\n"
      ],
      "text/markdown": [
       "mean\n",
       ":   1.88999999999999lower\n",
       ":   -11.7507839458919upper\n",
       ":   15.5307839458918\n",
       "\n"
      ],
      "text/plain": [
       "     mean     lower     upper \n",
       "  1.89000 -11.75078  15.53078 "
      ]
     },
     "metadata": {},
     "output_type": "display_data"
    }
   ],
   "source": [
    "conf.int2(x.bar1, x.bar2, s1, s2, n1, n2)"
   ]
  },
  {
   "cell_type": "markdown",
   "metadata": {},
   "source": [
    "### e."
   ]
  },
  {
   "cell_type": "markdown",
   "metadata": {},
   "source": [
    "It probably isn't very accurate to treat these people as representative of the larger population."
   ]
  },
  {
   "cell_type": "markdown",
   "metadata": {},
   "source": [
    "## 65"
   ]
  },
  {
   "cell_type": "markdown",
   "metadata": {},
   "source": [
    "### a."
   ]
  },
  {
   "cell_type": "markdown",
   "metadata": {},
   "source": [
    "As long as this company's situation and conditions are similar to other workers', it is probably reasonable to treat this as close enough to an SRS"
   ]
  },
  {
   "cell_type": "markdown",
   "metadata": {},
   "source": [
    "### b."
   ]
  },
  {
   "cell_type": "code",
   "execution_count": 41,
   "metadata": {
    "collapsed": false
   },
   "outputs": [
    {
     "data": {
      "text/html": [
       "<dl class=dl-horizontal>\n",
       "\t<dt>mean</dt>\n",
       "\t\t<dd>11.5</dd>\n",
       "\t<dt>lower</dt>\n",
       "\t\t<dd>9.99197831556075</dd>\n",
       "\t<dt>upper</dt>\n",
       "\t\t<dd>13.0080216844393</dd>\n",
       "</dl>\n"
      ],
      "text/latex": [
       "\\begin{description*}\n",
       "\\item[mean] 11.5\n",
       "\\item[lower] 9.99197831556075\n",
       "\\item[upper] 13.0080216844393\n",
       "\\end{description*}\n"
      ],
      "text/markdown": [
       "mean\n",
       ":   11.5lower\n",
       ":   9.99197831556075upper\n",
       ":   13.0080216844393\n",
       "\n"
      ],
      "text/plain": [
       "     mean     lower     upper \n",
       "11.500000  9.991978 13.008022 "
      ]
     },
     "metadata": {},
     "output_type": "display_data"
    }
   ],
   "source": [
    "n.i <- 115\n",
    "n.o <- 220\n",
    "xbar.i <- 18\n",
    "s.i <- 7.8\n",
    "xbar.o <- 6.5\n",
    "s.o <- 3.4\n",
    "\n",
    "conf.int2(xbar.i, xbar.o, s.i, s.o, n.i, n.o)"
   ]
  },
  {
   "cell_type": "markdown",
   "metadata": {},
   "source": [
    "We can be 95% sure that the maximum difference between the workers population is 13 and the minimum is 10."
   ]
  },
  {
   "cell_type": "markdown",
   "metadata": {},
   "source": [
    "### c."
   ]
  },
  {
   "cell_type": "markdown",
   "metadata": {},
   "source": [
    "Use a one-sided hypothesis because we expect (prior to seeing the data) that indoor workers will have more trapped dust exposure."
   ]
  },
  {
   "cell_type": "code",
   "execution_count": 43,
   "metadata": {
    "collapsed": false
   },
   "outputs": [
    {
     "data": {
      "text/html": [
       "<dl class=dl-horizontal>\n",
       "\t<dt>Difference of means</dt>\n",
       "\t\t<dd>11.5</dd>\n",
       "\t<dt>Std Error</dt>\n",
       "\t\t<dd>0.762619782595707</dd>\n",
       "\t<dt>t</dt>\n",
       "\t\t<dd>15.0795983299276</dd>\n",
       "\t<dt>p-value</dt>\n",
       "\t\t<dd>6.69703022080556e-31</dd>\n",
       "</dl>\n"
      ],
      "text/latex": [
       "\\begin{description*}\n",
       "\\item[Difference of means] 11.5\n",
       "\\item[Std Error] 0.762619782595707\n",
       "\\item[t] 15.0795983299276\n",
       "\\item[p-value] 6.69703022080556e-31\n",
       "\\end{description*}\n"
      ],
      "text/markdown": [
       "Difference of means\n",
       ":   11.5Std Error\n",
       ":   0.762619782595707t\n",
       ":   15.0795983299276p-value\n",
       ":   6.69703022080556e-31\n",
       "\n"
      ],
      "text/plain": [
       "Difference of means           Std Error                   t             p-value \n",
       "       1.150000e+01        7.626198e-01        1.507960e+01        6.697030e-31 "
      ]
     },
     "metadata": {},
     "output_type": "display_data"
    }
   ],
   "source": [
    "t.test2(xbar.i, xbar.o, s.i, s.o, n.i, n.o)"
   ]
  },
  {
   "cell_type": "markdown",
   "metadata": {},
   "source": [
    "### d."
   ]
  },
  {
   "cell_type": "markdown",
   "metadata": {},
   "source": [
    "Skewness really isn't an issue because the two-sample t-test is robust so long as we have sufficiently large sample sizes (above 40) which we have here."
   ]
  },
  {
   "cell_type": "markdown",
   "metadata": {},
   "source": [
    "## 69"
   ]
  },
  {
   "cell_type": "markdown",
   "metadata": {},
   "source": [
    "### a."
   ]
  },
  {
   "cell_type": "markdown",
   "metadata": {},
   "source": [
    "Your hypotheses include $\\mu$ not $\\bar{x}$."
   ]
  },
  {
   "cell_type": "markdown",
   "metadata": {},
   "source": [
    "### b."
   ]
  },
  {
   "cell_type": "markdown",
   "metadata": {},
   "source": [
    "Not independent"
   ]
  },
  {
   "cell_type": "markdown",
   "metadata": {},
   "source": [
    "### c."
   ]
  },
  {
   "cell_type": "markdown",
   "metadata": {},
   "source": [
    "Our P-value should be quite small before we reject $H_0$"
   ]
  },
  {
   "cell_type": "markdown",
   "metadata": {},
   "source": [
    "### d."
   ]
  },
  {
   "cell_type": "markdown",
   "metadata": {},
   "source": [
    "For that hypothesis, you need a negative t to reject your null hypothesis"
   ]
  },
  {
   "cell_type": "markdown",
   "metadata": {},
   "source": [
    "## 73"
   ]
  },
  {
   "cell_type": "markdown",
   "metadata": {},
   "source": [
    "You have matched pairs, meaning a 1-sample t-test"
   ]
  },
  {
   "cell_type": "markdown",
   "metadata": {},
   "source": [
    "## 74"
   ]
  },
  {
   "cell_type": "markdown",
   "metadata": {},
   "source": [
    "### a."
   ]
  },
  {
   "cell_type": "markdown",
   "metadata": {},
   "source": [
    "Sounds good."
   ]
  },
  {
   "cell_type": "markdown",
   "metadata": {},
   "source": [
    "### b."
   ]
  },
  {
   "cell_type": "code",
   "execution_count": 45,
   "metadata": {
    "collapsed": false
   },
   "outputs": [
    {
     "data": {
      "text/html": [
       "<dl class=dl-horizontal>\n",
       "\t<dt>mean</dt>\n",
       "\t\t<dd>1.8</dd>\n",
       "\t<dt>lower</dt>\n",
       "\t\t<dd>0.666827478164193</dd>\n",
       "\t<dt>upper</dt>\n",
       "\t\t<dd>2.93317252183581</dd>\n",
       "</dl>\n"
      ],
      "text/latex": [
       "\\begin{description*}\n",
       "\\item[mean] 1.8\n",
       "\\item[lower] 0.666827478164193\n",
       "\\item[upper] 2.93317252183581\n",
       "\\end{description*}\n"
      ],
      "text/markdown": [
       "mean\n",
       ":   1.8lower\n",
       ":   0.666827478164193upper\n",
       ":   2.93317252183581\n",
       "\n"
      ],
      "text/plain": [
       "     mean     lower     upper \n",
       "1.8000000 0.6668275 2.9331725 "
      ]
     },
     "metadata": {},
     "output_type": "display_data"
    }
   ],
   "source": [
    "n.f <- n.s <- 10\n",
    "xbar.f <- 4.8\n",
    "s.f <- 0.7\n",
    "xbar.s <- 3\n",
    "s.s <- 1.5\n",
    "\n",
    "conf.int2(xbar.f, xbar.s, s.f, s.s, n.f, n.s)"
   ]
  },
  {
   "cell_type": "markdown",
   "metadata": {},
   "source": [
    "### c."
   ]
  },
  {
   "cell_type": "markdown",
   "metadata": {},
   "source": [
    "Yes; our confidence interval shows us that we can be sure to a significance level of $\\alpha = 0.05$ that the mean difference is between 0.67 and 2.93, both of which are greater than 0."
   ]
  },
  {
   "cell_type": "markdown",
   "metadata": {},
   "source": [
    "## 75"
   ]
  },
  {
   "cell_type": "markdown",
   "metadata": {},
   "source": [
    "There can be hidden biases in the data when you don't randomize. Maybe all the people who ask for a new monitor next are from the HR department and will just always be dissatisfied with everything."
   ]
  }
 ],
 "metadata": {
  "kernelspec": {
   "display_name": "R",
   "language": "R",
   "name": "ir"
  },
  "language_info": {
   "codemirror_mode": "r",
   "file_extension": ".r",
   "mimetype": "text/x-r-source",
   "name": "R",
   "pygments_lexer": "r",
   "version": "3.3.2"
  }
 },
 "nbformat": 4,
 "nbformat_minor": 1
}
