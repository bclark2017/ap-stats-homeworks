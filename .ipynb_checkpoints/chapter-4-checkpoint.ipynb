{
 "cells": [
  {
   "cell_type": "markdown",
   "metadata": {},
   "source": [
    "# Chapter 4 Homework "
   ]
  },
  {
   "cell_type": "markdown",
   "metadata": {},
   "source": [
    "### Load libraries"
   ]
  },
  {
   "cell_type": "code",
   "execution_count": 4,
   "metadata": {
    "collapsed": false
   },
   "outputs": [
    {
     "name": "stderr",
     "output_type": "stream",
     "text": [
      "Loading required package: dplyr\n",
      "\n",
      "Attaching package: ‘dplyr’\n",
      "\n",
      "The following objects are masked from ‘package:stats’:\n",
      "\n",
      "    filter, lag\n",
      "\n",
      "The following objects are masked from ‘package:base’:\n",
      "\n",
      "    intersect, setdiff, setequal, union\n",
      "\n",
      "Loading required package: lattice\n",
      "Loading required package: ggplot2\n",
      "Loading required package: mosaicData\n",
      "Loading required package: Matrix\n",
      "\n",
      "The 'mosaic' package masks several functions from core packages in order to add additional features.  \n",
      "The original behavior of these functions should not be affected by this.\n",
      "\n",
      "Attaching package: ‘mosaic’\n",
      "\n",
      "The following object is masked from ‘package:Matrix’:\n",
      "\n",
      "    mean\n",
      "\n",
      "The following objects are masked from ‘package:dplyr’:\n",
      "\n",
      "    count, do, tally\n",
      "\n",
      "The following objects are masked from ‘package:stats’:\n",
      "\n",
      "    binom.test, cor, cov, D, fivenum, IQR, median, prop.test, quantile,\n",
      "    sd, t.test, var\n",
      "\n",
      "The following objects are masked from ‘package:base’:\n",
      "\n",
      "    max, mean, min, prod, range, sample, sum\n",
      "\n",
      "\n",
      "Attaching package: ‘MASS’\n",
      "\n",
      "The following object is masked from ‘package:dplyr’:\n",
      "\n",
      "    select\n",
      "\n"
     ]
    }
   ],
   "source": [
    "library(mosaic)\n",
    "library(MASS)"
   ]
  },
  {
   "cell_type": "markdown",
   "metadata": {},
   "source": [
    "## 4.2"
   ]
  },
  {
   "cell_type": "markdown",
   "metadata": {},
   "source": [
    "## 4.3"
   ]
  },
  {
   "cell_type": "markdown",
   "metadata": {},
   "source": [
    "If I were to wait only 5 seconds between each time, then I would have not been taking a large enough sample size of the radio station to draw any conclusions about total probability of commercials being played."
   ]
  },
  {
   "cell_type": "markdown",
   "metadata": {},
   "source": [
    "## 4.4"
   ]
  },
  {
   "cell_type": "code",
   "execution_count": 5,
   "metadata": {
    "collapsed": false
   },
   "outputs": [
    {
     "data": {
      "text/html": [
       "0.2"
      ],
      "text/latex": [
       "0.2"
      ],
      "text/markdown": [
       "0.2"
      ],
      "text/plain": [
       "[1] 0.2"
      ]
     },
     "metadata": {},
     "output_type": "display_data"
    }
   ],
   "source": [
    "# Dice simulator\n",
    "n <- 25\n",
    "die1 <- sample(1:6, size=n, replace=TRUE)\n",
    "die2 <- sample(1:6, size=n, replace=TRUE)\n",
    "wins <- 0\n",
    "\n",
    "for (i in 1:n) {\n",
    "    sum <- die1[i] + die2[i]\n",
    "    if (sum == 7 || sum == 11) {\n",
    "        wins <- wins + 1\n",
    "    }\n",
    "}\n",
    "\n",
    "wins / n"
   ]
  },
  {
   "cell_type": "markdown",
   "metadata": {},
   "source": [
    "## 4.6"
   ]
  },
  {
   "cell_type": "markdown",
   "metadata": {},
   "source": [
    "Simply put, this is the decimal form of the fraction of people that develop a serious side effect from the medicine. In fraction form, this is $\\frac{1}{100000}$ of people that have a serious side effect."
   ]
  },
  {
   "cell_type": "markdown",
   "metadata": {},
   "source": [
    "## 4.19"
   ]
  },
  {
   "cell_type": "markdown",
   "metadata": {},
   "source": [
    "There are six possible outcomes in this sample space: {link1, link2, link3, link4, link5, leave}."
   ]
  },
  {
   "cell_type": "markdown",
   "metadata": {},
   "source": [
    "## 4.21"
   ]
  },
  {
   "cell_type": "code",
   "execution_count": 6,
   "metadata": {
    "collapsed": false
   },
   "outputs": [
    {
     "data": {
      "text/html": [
       "0.45"
      ],
      "text/latex": [
       "0.45"
      ],
      "text/markdown": [
       "0.45"
      ],
      "text/plain": [
       "[1] 0.45"
      ]
     },
     "metadata": {},
     "output_type": "display_data"
    }
   ],
   "source": [
    "# a.\n",
    "# Probability of type O\n",
    "1 - 0.4 - 0.11 - 0.04"
   ]
  },
  {
   "cell_type": "code",
   "execution_count": 7,
   "metadata": {
    "collapsed": false
   },
   "outputs": [
    {
     "data": {
      "text/html": [
       "0.56"
      ],
      "text/latex": [
       "0.56"
      ],
      "text/markdown": [
       "0.56"
      ],
      "text/plain": [
       "[1] 0.56"
      ]
     },
     "metadata": {},
     "output_type": "display_data"
    }
   ],
   "source": [
    "# b.\n",
    "# P(A or B) = P(A) + P(B)\n",
    "0.45 + 0.11"
   ]
  },
  {
   "cell_type": "markdown",
   "metadata": {},
   "source": [
    "## 4.23"
   ]
  },
  {
   "cell_type": "markdown",
   "metadata": {},
   "source": [
    "#### a.\n",
    "No, total probability does not add up to 1.\n",
    "#### b.\n",
    "Could work as long as the deck isn't standard\n",
    "#### c.\n",
    "Works as long as the die isn't standard."
   ]
  },
  {
   "cell_type": "markdown",
   "metadata": {},
   "source": [
    "## 4.25"
   ]
  },
  {
   "cell_type": "code",
   "execution_count": 8,
   "metadata": {
    "collapsed": false
   },
   "outputs": [
    {
     "data": {
      "text/html": [
       "0.28"
      ],
      "text/latex": [
       "0.28"
      ],
      "text/markdown": [
       "0.28"
      ],
      "text/plain": [
       "[1] 0.28"
      ]
     },
     "metadata": {},
     "output_type": "display_data"
    }
   ],
   "source": [
    "# a.\n",
    "1 - 0.12 - 0.31 - 0.29"
   ]
  },
  {
   "cell_type": "code",
   "execution_count": 9,
   "metadata": {
    "collapsed": false
   },
   "outputs": [
    {
     "data": {
      "text/html": [
       "0.88"
      ],
      "text/latex": [
       "0.88"
      ],
      "text/markdown": [
       "0.88"
      ],
      "text/plain": [
       "[1] 0.88"
      ]
     },
     "metadata": {},
     "output_type": "display_data"
    }
   ],
   "source": [
    "# b.\n",
    "1 - 0.12"
   ]
  },
  {
   "cell_type": "markdown",
   "metadata": {},
   "source": [
    "## 4.31"
   ]
  },
  {
   "cell_type": "code",
   "execution_count": 10,
   "metadata": {
    "collapsed": false
   },
   "outputs": [
    {
     "data": {
      "text/html": [
       "0.0263157894736842"
      ],
      "text/latex": [
       "0.0263157894736842"
      ],
      "text/markdown": [
       "0.0263157894736842"
      ],
      "text/plain": [
       "[1] 0.02631579"
      ]
     },
     "metadata": {},
     "output_type": "display_data"
    }
   ],
   "source": [
    "# a.\n",
    "1 / 38"
   ]
  },
  {
   "cell_type": "code",
   "execution_count": 11,
   "metadata": {
    "collapsed": false
   },
   "outputs": [
    {
     "data": {
      "text/html": [
       "0.473684210526316"
      ],
      "text/latex": [
       "0.473684210526316"
      ],
      "text/markdown": [
       "0.473684210526316"
      ],
      "text/plain": [
       "[1] 0.4736842"
      ]
     },
     "metadata": {},
     "output_type": "display_data"
    }
   ],
   "source": [
    "# b.\n",
    "18 / 38"
   ]
  },
  {
   "cell_type": "code",
   "execution_count": 12,
   "metadata": {
    "collapsed": false
   },
   "outputs": [
    {
     "data": {
      "text/html": [
       "0.315789473684211"
      ],
      "text/latex": [
       "0.315789473684211"
      ],
      "text/markdown": [
       "0.315789473684211"
      ],
      "text/plain": [
       "[1] 0.3157895"
      ]
     },
     "metadata": {},
     "output_type": "display_data"
    }
   ],
   "source": [
    "# c.\n",
    "length(seq.int(3, 36, by=3)) / 38"
   ]
  },
  {
   "cell_type": "markdown",
   "metadata": {},
   "source": [
    "## 4.33"
   ]
  },
  {
   "cell_type": "code",
   "execution_count": 13,
   "metadata": {
    "collapsed": false
   },
   "outputs": [
    {
     "data": {
      "text/html": [
       "10000"
      ],
      "text/latex": [
       "10000"
      ],
      "text/markdown": [
       "10000"
      ],
      "text/plain": [
       "[1] 10000"
      ]
     },
     "metadata": {},
     "output_type": "display_data"
    }
   ],
   "source": [
    "# a.\n",
    "# possible pins\n",
    "10^4"
   ]
  },
  {
   "cell_type": "code",
   "execution_count": 14,
   "metadata": {
    "collapsed": false
   },
   "outputs": [
    {
     "data": {
      "text/html": [
       "0.3439"
      ],
      "text/latex": [
       "0.3439"
      ],
      "text/markdown": [
       "0.3439"
      ],
      "text/plain": [
       "[1] 0.3439"
      ]
     },
     "metadata": {},
     "output_type": "display_data"
    }
   ],
   "source": [
    "# b.\n",
    "1 - (9 / 10)^4"
   ]
  },
  {
   "cell_type": "markdown",
   "metadata": {},
   "source": [
    "## 4.37"
   ]
  },
  {
   "cell_type": "markdown",
   "metadata": {},
   "source": [
    "The two events described here are most likely not independent."
   ]
  },
  {
   "cell_type": "markdown",
   "metadata": {},
   "source": [
    "## 4.39"
   ]
  },
  {
   "cell_type": "code",
   "execution_count": 15,
   "metadata": {
    "collapsed": false
   },
   "outputs": [
    {
     "data": {
      "text/html": [
       "0.274625"
      ],
      "text/latex": [
       "0.274625"
      ],
      "text/markdown": [
       "0.274625"
      ],
      "text/plain": [
       "[1] 0.274625"
      ]
     },
     "metadata": {},
     "output_type": "display_data"
    }
   ],
   "source": [
    "# a.\n",
    "0.65 ^ 3"
   ]
  },
  {
   "cell_type": "code",
   "execution_count": 16,
   "metadata": {
    "collapsed": false
   },
   "outputs": [
    {
     "data": {
      "text/html": [
       "0.35"
      ],
      "text/latex": [
       "0.35"
      ],
      "text/markdown": [
       "0.35"
      ],
      "text/plain": [
       "[1] 0.35"
      ]
     },
     "metadata": {},
     "output_type": "display_data"
    }
   ],
   "source": [
    "# b.\n",
    "1 - 0.65"
   ]
  },
  {
   "cell_type": "code",
   "execution_count": 17,
   "metadata": {
    "collapsed": false
   },
   "outputs": [
    {
     "data": {
      "text/html": [
       "0.545"
      ],
      "text/latex": [
       "0.545"
      ],
      "text/markdown": [
       "0.545"
      ],
      "text/plain": [
       "[1] 0.545"
      ]
     },
     "metadata": {},
     "output_type": "display_data"
    }
   ],
   "source": [
    "# c.\n",
    "0.65 ^ 2 + 0.35 ^ 2"
   ]
  },
  {
   "cell_type": "markdown",
   "metadata": {},
   "source": [
    "## 4.43"
   ]
  },
  {
   "cell_type": "markdown",
   "metadata": {},
   "source": [
    "#### a.\n",
    "{B, O}\n",
    "\n",
    "#### b.\n",
    "$P(B) = P(B \\cup B) + P(B \\cup O) = \\frac{1}{4} + \\frac{1}{2} = \\frac{3}{4}$\n",
    "\n",
    "$P(O) = P(O \\cup O) = \\frac{1}{4}$"
   ]
  },
  {
   "cell_type": "markdown",
   "metadata": {},
   "source": [
    "## 4.49"
   ]
  },
  {
   "cell_type": "markdown",
   "metadata": {},
   "source": [
    "#### a.\n",
    "Continuous: It can be any number of time.\n",
    "\n",
    "#### b.\n",
    "Discrete:  It has to be a whole number of people.\n",
    "\n",
    "#### c.\n",
    "Continuous: It can be nearly any number (cents are very small)."
   ]
  },
  {
   "cell_type": "markdown",
   "metadata": {},
   "source": [
    "## 4.51"
   ]
  },
  {
   "cell_type": "code",
   "execution_count": 18,
   "metadata": {
    "collapsed": false
   },
   "outputs": [
    {
     "data": {},
     "metadata": {},
     "output_type": "display_data"
    },
    {
     "data": {
      "image/png": "[encoded data removed]",
      "text/plain": [
       "plot without title"
      ]
     },
     "metadata": {},
     "output_type": "display_data"
    }
   ],
   "source": [
    "# a.\n",
    "data <- data.frame(X=0:4, probX=c(0.1, 0.3, 0.3, 0.2, 0.1))\n",
    "barchart(probX ~ X, data=data, horiz=FALSE, box.ratio=100, origin=0)"
   ]
  },
  {
   "cell_type": "markdown",
   "metadata": {},
   "source": [
    "#### b.\n",
    "$A: X \\geq 1$\n",
    "\n",
    "$P(A) = 1 - 0.1$\n",
    "\n",
    "$P(A) = 0.9$"
   ]
  },
  {
   "cell_type": "markdown",
   "metadata": {},
   "source": [
    "#### c.\n",
    "$X \\leq 2$ is the event that 2 or fewer words are spelled incorrectly. The probability of this is $1 - 0.2 - 0.1 = 0.7$ "
   ]
  },
  {
   "cell_type": "markdown",
   "metadata": {},
   "source": [
    "## 4.55"
   ]
  },
  {
   "cell_type": "markdown",
   "metadata": {},
   "source": [
    "#### a.\n",
    "$A: X \\geq 6$"
   ]
  },
  {
   "cell_type": "code",
   "execution_count": 19,
   "metadata": {
    "collapsed": false
   },
   "outputs": [
    {
     "data": {
      "text/html": [
       "0.661"
      ],
      "text/latex": [
       "0.661"
      ],
      "text/markdown": [
       "0.661"
      ],
      "text/plain": [
       "[1] 0.661"
      ]
     },
     "metadata": {},
     "output_type": "display_data"
    }
   ],
   "source": [
    "1 - (0.003 + 0.002 + 0.02 + 0.104 + 0.210)"
   ]
  },
  {
   "cell_type": "markdown",
   "metadata": {},
   "source": [
    "$P(A) = 0.661$"
   ]
  },
  {
   "cell_type": "markdown",
   "metadata": {},
   "source": [
    "#### b.\n",
    "a house has more than 6 rooms\n",
    "\n"
   ]
  },
  {
   "cell_type": "code",
   "execution_count": 20,
   "metadata": {
    "collapsed": false
   },
   "outputs": [
    {
     "data": {
      "text/html": [
       "0.658"
      ],
      "text/latex": [
       "0.658"
      ],
      "text/markdown": [
       "0.658"
      ],
      "text/plain": [
       "[1] 0.658"
      ]
     },
     "metadata": {},
     "output_type": "display_data"
    }
   ],
   "source": [
    "0.224 + 0.197 + 0.149 + 0.053 + 0.035"
   ]
  },
  {
   "cell_type": "markdown",
   "metadata": {},
   "source": [
    "$P(B) = 0.0658$"
   ]
  },
  {
   "cell_type": "markdown",
   "metadata": {},
   "source": [
    "#### c.\n",
    "With discrete random variables, it matters whether you have a $>$ or a $\\geq$ sign (whether bounds are inclusive or exclusive) "
   ]
  },
  {
   "cell_type": "markdown",
   "metadata": {},
   "source": [
    "## 4.61"
   ]
  },
  {
   "cell_type": "markdown",
   "metadata": {},
   "source": [
    "#### a.\n",
    "$= 0.4$\n",
    "\n",
    "#### b.\n",
    "$= 0.04$\n",
    "\n",
    "#### c.\n",
    "With continuious random variables, it does not matter whether you have a $>$ or a $\\geq$ sign (whether bounds are incluisve or exclusive)"
   ]
  },
  {
   "cell_type": "markdown",
   "metadata": {},
   "source": [
    "## 4.63"
   ]
  },
  {
   "cell_type": "code",
   "execution_count": 21,
   "metadata": {
    "collapsed": false
   },
   "outputs": [
    {
     "data": {},
     "metadata": {},
     "output_type": "display_data"
    },
    {
     "data": {
      "image/png": "[encoded data removed]",
      "text/plain": [
       "plot without title"
      ]
     },
     "metadata": {},
     "output_type": "display_data"
    }
   ],
   "source": [
    "barchart(0.5 ~ 1, horiz=FALSE)"
   ]
  },
  {
   "cell_type": "markdown",
   "metadata": {},
   "source": [
    "#### b.\n",
    "$P(Y \\leq 1.5) = 0.75$.\n",
    "\n",
    "#### c.\n",
    "$P(0.6 < Y < 1.7) = 0.5(1.7 - 0.6) = 0.55$.\n",
    "\n",
    "#### d.\n",
    "$P(Y \\geq 0.9) = 0.5(2 - 0.9) = 0.55$."
   ]
  },
  {
   "cell_type": "markdown",
   "metadata": {},
   "source": [
    "## 4.65"
   ]
  },
  {
   "cell_type": "markdown",
   "metadata": {},
   "source": [
    "$P(8 \\leq \\bar{x} \\leq 10) = P(x < 10) - P(x < 8)$"
   ]
  },
  {
   "cell_type": "code",
   "execution_count": 22,
   "metadata": {
    "collapsed": false
   },
   "outputs": [
    {
     "data": {
      "text/html": [
       "1"
      ],
      "text/latex": [
       "1"
      ],
      "text/markdown": [
       "1"
      ],
      "text/plain": [
       "[1] 1"
      ]
     },
     "metadata": {},
     "output_type": "display_data"
    }
   ],
   "source": [
    "pnorm(10, mean=0, sd=0.075) - pnorm(8, mean=9, sd=0.075)"
   ]
  },
  {
   "cell_type": "markdown",
   "metadata": {},
   "source": [
    "## 4.73"
   ]
  },
  {
   "cell_type": "markdown",
   "metadata": {},
   "source": [
    "$\\mu = \\sum X_i (P_i)$"
   ]
  },
  {
   "cell_type": "code",
   "execution_count": 23,
   "metadata": {
    "collapsed": false
   },
   "outputs": [
    {
     "data": {
      "text/html": [
       "2.88"
      ],
      "text/latex": [
       "2.88"
      ],
      "text/markdown": [
       "2.88"
      ],
      "text/plain": [
       "[1] 2.88"
      ]
     },
     "metadata": {},
     "output_type": "display_data"
    }
   ],
   "source": [
    "X <- 0:4\n",
    "probX <- c(0.05, 0.04, 0.2, 0.4, 0.31)\n",
    "sum(X * probX)"
   ]
  },
  {
   "cell_type": "markdown",
   "metadata": {},
   "source": [
    "## 4.79"
   ]
  },
  {
   "cell_type": "code",
   "execution_count": 24,
   "metadata": {
    "collapsed": false
   },
   "outputs": [
    {
     "data": {
      "text/html": [
       "0.25"
      ],
      "text/latex": [
       "0.25"
      ],
      "text/markdown": [
       "0.25"
      ],
      "text/plain": [
       "[1] 0.25"
      ]
     },
     "metadata": {},
     "output_type": "display_data"
    }
   ],
   "source": [
    "# a.\n",
    "mean <- 0.5\n",
    "X <- c(0, 1)\n",
    "probX <- 0.5\n",
    "sd <- sum(probX * (X - mean)^2)\n",
    "sd"
   ]
  },
  {
   "cell_type": "markdown",
   "metadata": {},
   "source": [
    "$\\mu = 0.5; \\sigma = 0.25$"
   ]
  },
  {
   "cell_type": "code",
   "execution_count": 25,
   "metadata": {
    "collapsed": false
   },
   "outputs": [
    {
     "data": {
      "text/html": [
       "2"
      ],
      "text/latex": [
       "2"
      ],
      "text/markdown": [
       "2"
      ],
      "text/plain": [
       "[1] 2"
      ]
     },
     "metadata": {},
     "output_type": "display_data"
    },
    {
     "data": {
      "text/html": [
       "1"
      ],
      "text/latex": [
       "1"
      ],
      "text/markdown": [
       "1"
      ],
      "text/plain": [
       "[1] 1"
      ]
     },
     "metadata": {},
     "output_type": "display_data"
    }
   ],
   "source": [
    "# b.\n",
    "X <- 0:4\n",
    "probX <- dbinom(X, 4, 0.5)\n",
    "mean <- sum(X * probX)\n",
    "sd <- sum(probX * (X - mean)^2)\n",
    "mean\n",
    "sd"
   ]
  },
  {
   "cell_type": "markdown",
   "metadata": {},
   "source": [
    "$\\mu = 0.2; \\sigma = 1$."
   ]
  },
  {
   "cell_type": "markdown",
   "metadata": {},
   "source": [
    "#### c.\n",
    "$\\mu = 0.2; \\sigma = 1$. Results concur."
   ]
  },
  {
   "cell_type": "markdown",
   "metadata": {},
   "source": [
    "## 4.81"
   ]
  },
  {
   "cell_type": "markdown",
   "metadata": {},
   "source": [
    "$\\sigma_{X + Y + Z} = \\sqrt{\\sigma_X^2 + \\sigma_Y^2 + \\sigma_Z^2}$"
   ]
  },
  {
   "cell_type": "code",
   "execution_count": 26,
   "metadata": {
    "collapsed": false
   },
   "outputs": [
    {
     "data": {
      "text/html": [
       "0.006"
      ],
      "text/latex": [
       "0.006"
      ],
      "text/markdown": [
       "0.006"
      ],
      "text/plain": [
       "[1] 0.006"
      ]
     },
     "metadata": {},
     "output_type": "display_data"
    },
    {
     "data": {
      "text/html": [
       "0.00424264068711928"
      ],
      "text/latex": [
       "0.00424264068711928"
      ],
      "text/markdown": [
       "0.00424264068711928"
      ],
      "text/plain": [
       "[1] 0.004242641"
      ]
     },
     "metadata": {},
     "output_type": "display_data"
    }
   ],
   "source": [
    "X <- 0.004\n",
    "Y <- Z <- 0.001\n",
    "X + Y + Z\n",
    "sqrt(X^2 + Y^2 + Z^2)"
   ]
  },
  {
   "cell_type": "markdown",
   "metadata": {},
   "source": [
    "$\\mu = 0.006; \\sigma = 0.0042$."
   ]
  },
  {
   "cell_type": "markdown",
   "metadata": {},
   "source": [
    "## 4.83"
   ]
  },
  {
   "cell_type": "markdown",
   "metadata": {},
   "source": [
    "#### a.\n",
    "No, they are not independent\n",
    "\n",
    "#### b.\n",
    "Independent."
   ]
  },
  {
   "cell_type": "markdown",
   "metadata": {},
   "source": [
    "## 4.87"
   ]
  },
  {
   "cell_type": "markdown",
   "metadata": {},
   "source": [
    "If you were to only sell 10 policies, then there would be a good chance that the company would make a profit of $\\$3,000$. However, the business would be very unsafe, because if one of those 10 people had their house burn down, then they would need to buy that person a whole new house, going very deep into debt. However, if they sell enough fire insurance, then they would very likely need to buy a few people new houses, but they would have enough money to do so. They would make approximately their calculated profit."
   ]
  },
  {
   "cell_type": "markdown",
   "metadata": {},
   "source": [
    "## 4.88"
   ]
  },
  {
   "cell_type": "markdown",
   "metadata": {},
   "source": [
    "$\\mu_{12X} = 12\\mu_X$\n",
    "\n",
    "$\\sigma_{12X} = 12\\sigma_X$"
   ]
  },
  {
   "cell_type": "code",
   "execution_count": 27,
   "metadata": {
    "collapsed": false
   },
   "outputs": [
    {
     "data": {
      "text/html": [
       "3000"
      ],
      "text/latex": [
       "3000"
      ],
      "text/markdown": [
       "3000"
      ],
      "text/plain": [
       "[1] 3000"
      ]
     },
     "metadata": {},
     "output_type": "display_data"
    },
    {
     "data": {
      "text/html": [
       "4000"
      ],
      "text/latex": [
       "4000"
      ],
      "text/markdown": [
       "4000"
      ],
      "text/plain": [
       "[1] 4000"
      ]
     },
     "metadata": {},
     "output_type": "display_data"
    },
    {
     "data": {
      "text/html": [
       "3600"
      ],
      "text/latex": [
       "3600"
      ],
      "text/markdown": [
       "3600"
      ],
      "text/plain": [
       "[1] 3600"
      ]
     },
     "metadata": {},
     "output_type": "display_data"
    },
    {
     "data": {
      "text/html": [
       "4800"
      ],
      "text/latex": [
       "4800"
      ],
      "text/markdown": [
       "4800"
      ],
      "text/plain": [
       "[1] 4800"
      ]
     },
     "metadata": {},
     "output_type": "display_data"
    }
   ],
   "source": [
    "300 * 10\n",
    "400 * 10\n",
    "300 * 12\n",
    "400 * 12"
   ]
  },
  {
   "cell_type": "markdown",
   "metadata": {},
   "source": [
    "## 4.101"
   ]
  },
  {
   "cell_type": "code",
   "execution_count": 28,
   "metadata": {
    "collapsed": false
   },
   "outputs": [
    {
     "data": {
      "text/html": [
       "1"
      ],
      "text/latex": [
       "1"
      ],
      "text/markdown": [
       "1"
      ],
      "text/plain": [
       "[1] 1"
      ]
     },
     "metadata": {},
     "output_type": "display_data"
    }
   ],
   "source": [
    "# a.\n",
    "men <- c(0.11, 0.32)\n",
    "women <- c(0.12, 0.45)\n",
    "sum(men + women)"
   ]
  },
  {
   "cell_type": "code",
   "execution_count": 29,
   "metadata": {
    "collapsed": false
   },
   "outputs": [
    {
     "data": {
      "text/html": [
       "0.77"
      ],
      "text/latex": [
       "0.77"
      ],
      "text/markdown": [
       "0.77"
      ],
      "text/plain": [
       "[1] 0.77"
      ]
     },
     "metadata": {},
     "output_type": "display_data"
    }
   ],
   "source": [
    "# b.\n",
    "men[2] + women[2]"
   ]
  },
  {
   "cell_type": "code",
   "execution_count": 30,
   "metadata": {
    "collapsed": false
   },
   "outputs": [
    {
     "data": {
      "text/html": [
       "0.744186046511628"
      ],
      "text/latex": [
       "0.744186046511628"
      ],
      "text/markdown": [
       "0.744186046511628"
      ],
      "text/plain": [
       "[1] 0.744186"
      ]
     },
     "metadata": {},
     "output_type": "display_data"
    }
   ],
   "source": [
    "# c.\n",
    "men[2] / sum(men)"
   ]
  },
  {
   "cell_type": "markdown",
   "metadata": {},
   "source": [
    "#### d.\n",
    "The percentage of men who are binge drinkers is different than the percentage of women who are binge drinkers."
   ]
  },
  {
   "cell_type": "markdown",
   "metadata": {},
   "source": [
    "## 4.102"
   ]
  },
  {
   "cell_type": "code",
   "execution_count": 31,
   "metadata": {
    "collapsed": false
   },
   "outputs": [
    {
     "data": {
      "text/html": [
       "0.11"
      ],
      "text/latex": [
       "0.11"
      ],
      "text/markdown": [
       "0.11"
      ],
      "text/plain": [
       "[1] 0.11"
      ]
     },
     "metadata": {},
     "output_type": "display_data"
    },
    {
     "data": {
      "text/html": [
       "0.12"
      ],
      "text/latex": [
       "0.12"
      ],
      "text/markdown": [
       "0.12"
      ],
      "text/plain": [
       "[1] 0.12"
      ]
     },
     "metadata": {},
     "output_type": "display_data"
    }
   ],
   "source": [
    "# a.\n",
    "men[1]\n",
    "women[1]"
   ]
  },
  {
   "cell_type": "code",
   "execution_count": 32,
   "metadata": {
    "collapsed": false
   },
   "outputs": [
    {
     "data": {
      "text/html": [
       "0.255813953488372"
      ],
      "text/latex": [
       "0.255813953488372"
      ],
      "text/markdown": [
       "0.255813953488372"
      ],
      "text/plain": [
       "[1] 0.255814"
      ]
     },
     "metadata": {},
     "output_type": "display_data"
    },
    {
     "data": {
      "text/html": [
       "0.210526315789474"
      ],
      "text/latex": [
       "0.210526315789474"
      ],
      "text/markdown": [
       "0.210526315789474"
      ],
      "text/plain": [
       "[1] 0.2105263"
      ]
     },
     "metadata": {},
     "output_type": "display_data"
    }
   ],
   "source": [
    "# b.\n",
    "men[1] / sum(men)\n",
    "women[1] / sum(women)"
   ]
  },
  {
   "cell_type": "markdown",
   "metadata": {},
   "source": [
    "#### c.\n",
    "B. is a better question. The problem with question A is that it doesn't take into account that there are more women than men."
   ]
  },
  {
   "cell_type": "markdown",
   "metadata": {},
   "source": [
    "## 4.103"
   ]
  },
  {
   "cell_type": "code",
   "execution_count": 33,
   "metadata": {
    "collapsed": false
   },
   "outputs": [
    {
     "data": {
      "text/html": [
       "<ol class=list-inline>\n",
       "\t<li>0.2684</li>\n",
       "\t<li>0.1599</li>\n",
       "</ol>\n"
      ],
      "text/latex": [
       "\\begin{enumerate*}\n",
       "\\item 0.2684\n",
       "\\item 0.1599\n",
       "\\end{enumerate*}\n"
      ],
      "text/markdown": [
       "1. 0.2684\n",
       "2. 0.1599\n",
       "\n",
       "\n"
      ],
      "text/plain": [
       "[1] 0.2684 0.1599"
      ]
     },
     "metadata": {},
     "output_type": "display_data"
    },
    {
     "data": {
      "text/html": [
       "<ol class=list-inline>\n",
       "\t<li>0.3416</li>\n",
       "\t<li>0.2301</li>\n",
       "</ol>\n"
      ],
      "text/latex": [
       "\\begin{enumerate*}\n",
       "\\item 0.3416\n",
       "\\item 0.2301\n",
       "\\end{enumerate*}\n"
      ],
      "text/markdown": [
       "1. 0.3416\n",
       "2. 0.2301\n",
       "\n",
       "\n"
      ],
      "text/plain": [
       "[1] 0.3416 0.2301"
      ]
     },
     "metadata": {},
     "output_type": "display_data"
    },
    {
     "data": {
      "text/html": [
       "1"
      ],
      "text/latex": [
       "1"
      ],
      "text/markdown": [
       "1"
      ],
      "text/plain": [
       "[1] 1"
      ]
     },
     "metadata": {},
     "output_type": "display_data"
    }
   ],
   "source": [
    "# a.\n",
    "men <- c(0.61 * 0.44, (1 - 0.61) * 0.41)\n",
    "women <- c(0.61 * (1 - 0.44), (1 - 0.61) * (1 - 0.41))\n",
    "men\n",
    "women\n",
    "sum(men + women)"
   ]
  },
  {
   "cell_type": "code",
   "execution_count": 34,
   "metadata": {
    "collapsed": false
   },
   "outputs": [
    {
     "data": {
      "text/html": [
       "0.597516179814588"
      ],
      "text/latex": [
       "0.597516179814588"
      ],
      "text/markdown": [
       "0.597516179814588"
      ],
      "text/plain": [
       "[1] 0.5975162"
      ]
     },
     "metadata": {},
     "output_type": "display_data"
    }
   ],
   "source": [
    "# b.\n",
    "women[1] / sum(women)"
   ]
  },
  {
   "cell_type": "markdown",
   "metadata": {},
   "source": [
    "## 4.104"
   ]
  },
  {
   "cell_type": "markdown",
   "metadata": {},
   "source": [
    "<img src=\"./images/4-104.png\">"
   ]
  },
  {
   "cell_type": "markdown",
   "metadata": {},
   "source": [
    "## 4.106"
   ]
  },
  {
   "cell_type": "markdown",
   "metadata": {},
   "source": [
    "$P(A \\cup B) = P(A) + P(B) - P(A \\cap B)$"
   ]
  },
  {
   "cell_type": "code",
   "execution_count": 35,
   "metadata": {
    "collapsed": false
   },
   "outputs": [
    {
     "data": {
      "text/html": [
       "0.317"
      ],
      "text/latex": [
       "0.317"
      ],
      "text/markdown": [
       "0.317"
      ],
      "text/plain": [
       "[1] 0.317"
      ]
     },
     "metadata": {},
     "output_type": "display_data"
    }
   ],
   "source": [
    "0.138 + 0.261 - 0.082"
   ]
  },
  {
   "cell_type": "markdown",
   "metadata": {},
   "source": [
    "## 4.107"
   ]
  },
  {
   "cell_type": "markdown",
   "metadata": {},
   "source": [
    "$P(A\\,|\\,B) = \\frac{P(A\\,\\cap\\,B)}{P(B)}$"
   ]
  },
  {
   "cell_type": "code",
   "execution_count": 36,
   "metadata": {
    "collapsed": false
   },
   "outputs": [
    {
     "data": {
      "text/html": [
       "0.314176245210728"
      ],
      "text/latex": [
       "0.314176245210728"
      ],
      "text/markdown": [
       "0.314176245210728"
      ],
      "text/plain": [
       "[1] 0.3141762"
      ]
     },
     "metadata": {},
     "output_type": "display_data"
    }
   ],
   "source": [
    "(0.082) / (0.261)"
   ]
  },
  {
   "cell_type": "markdown",
   "metadata": {},
   "source": [
    "If the two events were independent, then $P(A\\,|\\,B)$ would be equal to $P(A)$."
   ]
  },
  {
   "cell_type": "markdown",
   "metadata": {},
   "source": [
    "## 4.108"
   ]
  },
  {
   "cell_type": "markdown",
   "metadata": {},
   "source": [
    "<img src=\"./images/4-108.png\">"
   ]
  },
  {
   "cell_type": "markdown",
   "metadata": {},
   "source": [
    "#### a.\n",
    "The probability that the household is both prosperous and educated\n",
    "\n",
    "#### b.\n",
    "The probability that the household is educated but not prosperous\n",
    "\n",
    "#### c.\n",
    "The probability that the household is prosperous but not educated\n",
    "\n",
    "#### c.\n",
    "The probability that the household is neither prosperous nor educated"
   ]
  },
  {
   "cell_type": "markdown",
   "metadata": {},
   "source": [
    "## 4.109"
   ]
  },
  {
   "cell_type": "markdown",
   "metadata": {},
   "source": [
    "#### a.\n",
    "$P(A^c) = 0.69$\n",
    "\n",
    "#### b.\n",
    "$P(B) = 0.22$"
   ]
  },
  {
   "cell_type": "markdown",
   "metadata": {},
   "source": [
    "## 4.111"
   ]
  },
  {
   "cell_type": "markdown",
   "metadata": {},
   "source": [
    "$P(B\\,|\\,A^c) = \\frac{P(A^c \\cap B)}{P(A^c)}$"
   ]
  },
  {
   "cell_type": "code",
   "execution_count": 37,
   "metadata": {
    "collapsed": false
   },
   "outputs": [
    {
     "data": {
      "text/html": [
       "0.636363636363636"
      ],
      "text/latex": [
       "0.636363636363636"
      ],
      "text/markdown": [
       "0.636363636363636"
      ],
      "text/plain": [
       "[1] 0.6363636"
      ]
     },
     "metadata": {},
     "output_type": "display_data"
    }
   ],
   "source": [
    "# a.\n",
    "0.14 / 0.22"
   ]
  },
  {
   "cell_type": "markdown",
   "metadata": {},
   "source": [
    "#### b.\n",
    "No, they aren't. The probability that the vehicle is an imported light truck is $>0$."
   ]
  },
  {
   "cell_type": "markdown",
   "metadata": {},
   "source": [
    "## 4.112"
   ]
  },
  {
   "cell_type": "markdown",
   "metadata": {},
   "source": [
    "<img src=\"./images/4-112.png\">"
   ]
  },
  {
   "cell_type": "markdown",
   "metadata": {},
   "source": [
    "## 4.113"
   ]
  },
  {
   "cell_type": "markdown",
   "metadata": {},
   "source": [
    "According to Julie, there is a probability of 1 that she will get at least one job offer."
   ]
  },
  {
   "cell_type": "markdown",
   "metadata": {},
   "source": [
    "## 4.114"
   ]
  },
  {
   "cell_type": "markdown",
   "metadata": {},
   "source": [
    "$0.3$"
   ]
  },
  {
   "cell_type": "markdown",
   "metadata": {},
   "source": [
    "## 4.115\n",
    "$0.\\bar{3}$\n",
    "\n",
    "$0.2$"
   ]
  }
 ],
 "metadata": {
  "kernelspec": {
   "display_name": "R",
   "language": "R",
   "name": "ir"
  },
  "language_info": {
   "codemirror_mode": "r",
   "file_extension": ".r",
   "mimetype": "text/x-r-source",
   "name": "R",
   "pygments_lexer": "r",
   "version": "3.3.0"
  }
 },
 "nbformat": 4,
 "nbformat_minor": 1
}
